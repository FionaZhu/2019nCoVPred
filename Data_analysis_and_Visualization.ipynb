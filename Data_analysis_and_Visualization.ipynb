{
  "nbformat": 4,
  "nbformat_minor": 0,
  "metadata": {
    "colab": {
      "name": "Data_analysis_and_Visualization.ipynb",
      "provenance": [],
      "collapsed_sections": [
        "4TPCKI_V2TbM",
        "uznj_NJmteJZ",
        "2cVOjDR3teJf",
        "uT2lRhswteJo",
        "b15DlxrGteJ8",
        "YO-Edm4kteJ_",
        "9jCQEutcteKJ"
      ],
      "toc_visible": true,
      "include_colab_link": true
    },
    "kernelspec": {
      "display_name": "Python 3",
      "language": "python",
      "name": "python3"
    }
  },
  "cells": [
    {
      "cell_type": "markdown",
      "metadata": {
        "id": "view-in-github",
        "colab_type": "text"
      },
      "source": [
        "<a href=\"https://colab.research.google.com/github/FionaZhu/2019nCoVPred/blob/master/Data_analysis_and_Visualization.ipynb\" target=\"_parent\"><img src=\"https://colab.research.google.com/assets/colab-badge.svg\" alt=\"Open In Colab\"/></a>"
      ]
    },
    {
      "cell_type": "markdown",
      "metadata": {
        "id": "sVs6HrkkteH1"
      },
      "source": [
        "# Data analysis and visualization with Pandas and Pingouin\n",
        "\n",
        "**Msense Lab Tutorial, Strongway, 15. Nov 2021**\n",
        "\n",
        "\n"
      ]
    },
    {
      "cell_type": "markdown",
      "metadata": {
        "id": "eREgjEEEWCbm"
      },
      "source": [
        "Many of us know how to use R with tidyverse method, which use the tidy-format table (Row-wise: Trials, Column-wise: variable), and pipe lines to concatenate analyses together. Here I will show you how to use chain rules in Python Pandas to do analyses in a similar way. "
      ]
    },
    {
      "cell_type": "code",
      "metadata": {
        "id": "fQKxD8coqHFZ"
      },
      "source": [
        "!pip install pingouin"
      ],
      "execution_count": null,
      "outputs": []
    },
    {
      "cell_type": "code",
      "metadata": {
        "id": "f3fd3GgHteH3"
      },
      "source": [
        "# these packages are often used in data analyses, so import them first. \n",
        "%matplotlib inline\n",
        "\n",
        "# pandas for data process, seaborn for plotting, in addition, matplotlib\n",
        "import numpy as np\n",
        "import pandas as pd  # manage data\n",
        "import seaborn as sns # statistical data visualization\n",
        "import matplotlib.pyplot as plt\n",
        "\n",
        "pd.set_option(\"display.max_rows\", 5)"
      ],
      "execution_count": null,
      "outputs": []
    },
    {
      "cell_type": "markdown",
      "metadata": {
        "id": "HJC-bA2CILDi"
      },
      "source": [
        "## 1. Import data\n",
        "\n",
        "There are many ways to import experimental data. The simplest solution is that you save the data in text format, such as `.csv` files, which can be easily loaded into Python via `pandas.read_csv()`. \n",
        "\n",
        "For example, let's load the first experiment 1 for Dynamic search study (data published in gitlab):"
      ]
    },
    {
      "cell_type": "code",
      "metadata": {
        "id": "7QIyF8xZ0Tz5",
        "colab": {
          "base_uri": "https://localhost:8080/",
          "height": 204
        },
        "outputId": "3795f64b-4df0-45dc-daef-2b7004cbfb9d"
      },
      "source": [
        "url = 'f\n",
        "dat = pd.read_csv(url)\n",
        "dat.head()"
      ],
      "execution_count": null,
      "outputs": [
        {
          "output_type": "execute_result",
          "data": {
            "text/html": [
              "<div>\n",
              "<style scoped>\n",
              "    .dataframe tbody tr th:only-of-type {\n",
              "        vertical-align: middle;\n",
              "    }\n",
              "\n",
              "    .dataframe tbody tr th {\n",
              "        vertical-align: top;\n",
              "    }\n",
              "\n",
              "    .dataframe thead th {\n",
              "        text-align: right;\n",
              "    }\n",
              "</style>\n",
              "<table border=\"1\" class=\"dataframe\">\n",
              "  <thead>\n",
              "    <tr style=\"text-align: right;\">\n",
              "      <th></th>\n",
              "      <th>target</th>\n",
              "      <th>setsize</th>\n",
              "      <th>dyn</th>\n",
              "      <th>resp</th>\n",
              "      <th>rt</th>\n",
              "      <th>sub</th>\n",
              "      <th>exp</th>\n",
              "      <th>correct</th>\n",
              "    </tr>\n",
              "  </thead>\n",
              "  <tbody>\n",
              "    <tr>\n",
              "      <th>0</th>\n",
              "      <td>Absent</td>\n",
              "      <td>12</td>\n",
              "      <td>Static</td>\n",
              "      <td>2</td>\n",
              "      <td>2.583007</td>\n",
              "      <td>1</td>\n",
              "      <td>1</td>\n",
              "      <td>1</td>\n",
              "    </tr>\n",
              "    <tr>\n",
              "      <th>1</th>\n",
              "      <td>Absent</td>\n",
              "      <td>8</td>\n",
              "      <td>Static</td>\n",
              "      <td>2</td>\n",
              "      <td>0.935967</td>\n",
              "      <td>1</td>\n",
              "      <td>1</td>\n",
              "      <td>1</td>\n",
              "    </tr>\n",
              "    <tr>\n",
              "      <th>2</th>\n",
              "      <td>Present</td>\n",
              "      <td>16</td>\n",
              "      <td>Static</td>\n",
              "      <td>1</td>\n",
              "      <td>0.794771</td>\n",
              "      <td>1</td>\n",
              "      <td>1</td>\n",
              "      <td>1</td>\n",
              "    </tr>\n",
              "    <tr>\n",
              "      <th>3</th>\n",
              "      <td>Present</td>\n",
              "      <td>8</td>\n",
              "      <td>Static</td>\n",
              "      <td>1</td>\n",
              "      <td>1.241838</td>\n",
              "      <td>1</td>\n",
              "      <td>1</td>\n",
              "      <td>1</td>\n",
              "    </tr>\n",
              "    <tr>\n",
              "      <th>4</th>\n",
              "      <td>Absent</td>\n",
              "      <td>12</td>\n",
              "      <td>Static</td>\n",
              "      <td>2</td>\n",
              "      <td>1.759485</td>\n",
              "      <td>1</td>\n",
              "      <td>1</td>\n",
              "      <td>1</td>\n",
              "    </tr>\n",
              "  </tbody>\n",
              "</table>\n",
              "</div>"
            ],
            "text/plain": [
              "    target  setsize     dyn  resp        rt  sub  exp  correct\n",
              "0   Absent       12  Static     2  2.583007    1    1        1\n",
              "1   Absent        8  Static     2  0.935967    1    1        1\n",
              "2  Present       16  Static     1  0.794771    1    1        1\n",
              "3  Present        8  Static     1  1.241838    1    1        1\n",
              "4   Absent       12  Static     2  1.759485    1    1        1"
            ]
          },
          "metadata": {},
          "execution_count": 3
        }
      ]
    },
    {
      "cell_type": "markdown",
      "metadata": {
        "id": "QX3LIqCgK89_"
      },
      "source": [
        "Given that this is reaction time data, the very first step is to check the distribution of RTs to get know your data. The seaborn package provides many handy functions to quickly visualize your data. \n",
        "Here we use `seaborn.displot()` or `seaborn.histplot()`.  \n"
      ]
    },
    {
      "cell_type": "code",
      "metadata": {
        "colab": {
          "base_uri": "https://localhost:8080/",
          "height": 746
        },
        "id": "mkDNKPVdIxi8",
        "outputId": "2f645e3a-5b00-4600-8bce-83bd16d5e000"
      },
      "source": [
        "sns.displot(data = dat, kind = 'hist', x = 'rt', hue = 'target' , col = 'setsize', row = 'dyn')"
      ],
      "execution_count": null,
      "outputs": [
        {
          "output_type": "execute_result",
          "data": {
            "text/plain": [
              "<seaborn.axisgrid.FacetGrid at 0x7f386bec31d0>"
            ]
          },
          "metadata": {},
          "execution_count": 4
        },
        {
          "output_type": "display_data",
          "data": {
            "image/png": "[encoded data removed]",
            "text/plain": [
              "<Figure size 1153.5x720 with 6 Axes>"
            ]
          },
          "metadata": {
            "needs_background": "light"
          }
        }
      ]
    },
    {
      "cell_type": "markdown",
      "metadata": {
        "id": "Y4-FcLRVLih5"
      },
      "source": [
        "### **Question**: \n",
        "\n",
        "What do you see from the data? What would be the next step?\n",
        "\n",
        "\n"
      ]
    },
    {
      "cell_type": "markdown",
      "metadata": {
        "id": "1Yi3pIPGRrC1"
      },
      "source": [
        "Dealing with outliers and errors\n",
        "**bold text**\n",
        "Error rates should be analyzed before discard (here we skip this). Filtering outliers and error trials can be done with `pandas.query()` function. \n"
      ]
    },
    {
      "cell_type": "code",
      "metadata": {
        "colab": {
          "base_uri": "https://localhost:8080/"
        },
        "id": "-YIdMi1YRqIM",
        "outputId": "9365c37f-3e90-4d61-b67e-3e28a8c597e6"
      },
      "source": [
        "vdat = dat.query('rt>0.15 & rt < 4.5 & correct == 1')\n",
        "print([len(vdat), len(dat)])"
      ],
      "execution_count": null,
      "outputs": [
        {
          "output_type": "stream",
          "name": "stdout",
          "text": [
            "[4273, 4620]\n"
          ]
        }
      ]
    },
    {
      "cell_type": "markdown",
      "metadata": {
        "id": "18d5MaosLzty"
      },
      "source": [
        "## Quick overview of searborn plotting\n",
        "\n",
        "Seaborn plotting functions can be rougphly divided into three categories: Relational plots, distribution plots, and categorial plots. \n",
        "\n",
        "![Searborn Plots](https://seaborn.pydata.org/_images/function_overview_8_0.png)\n",
        "\n",
        "Common parameters of seaborn functions:\n",
        "\n",
        "  * `data`: source data\n",
        "  * `x, y` : x-axis and y-axis\n",
        "  * `hue`: the column you want to use as separate color\n",
        "  * `kind`: type of plot you want, such as `line`, `scatter`, `kde`,which depends on your function. \n"
      ]
    },
    {
      "cell_type": "code",
      "metadata": {
        "colab": {
          "base_uri": "https://localhost:8080/",
          "height": 296
        },
        "id": "Ojlhz7-UKBRS",
        "outputId": "d79cf21a-00fd-49a5-b30a-dda85be2a100"
      },
      "source": [
        "# some examples\n",
        "sns.boxplot(data = vdat, x = 'setsize', y = 'rt', hue = 'target')"
      ],
      "execution_count": null,
      "outputs": [
        {
          "output_type": "execute_result",
          "data": {
            "text/plain": [
              "<matplotlib.axes._subplots.AxesSubplot at 0x7f3861adb710>"
            ]
          },
          "metadata": {},
          "execution_count": 6
        },
        {
          "output_type": "display_data",
          "data": {
            "image/png": "[encoded data removed]",
            "text/plain": [
              "<Figure size 432x288 with 1 Axes>"
            ]
          },
          "metadata": {
            "needs_background": "light"
          }
        }
      ]
    },
    {
      "cell_type": "markdown",
      "metadata": {
        "id": "NFsNh6C-Ui65"
      },
      "source": [
        "Note the above plot is using concrete function below the categorical level (see above figure). If you want to facet 'dynamic' conditions for multiple subplots, you may need additional `FacetGrid` function, which is a bit more coding. \n",
        "\n",
        "Fortunately, you can use the 'Figure' functions. Seaborn plotting functions can be distinguished with Figure-level and axes-level functions. The 'higher' categorical functions, such as `relplot`, `displot`, `catplot` are figure-level functions, include the facet grid already (see above example using `col` and `row` parameters). \n"
      ]
    },
    {
      "cell_type": "markdown",
      "metadata": {
        "id": "Qet2nwyeVp35"
      },
      "source": [
        "### Mini task\n",
        "\n",
        "Please separate boxplots for the static and dynamic conditions using the figure-level function `catplot`. \n"
      ]
    },
    {
      "cell_type": "code",
      "metadata": {
        "id": "9UMZ_kRyWEz6"
      },
      "source": [
        "# you code here. "
      ],
      "execution_count": null,
      "outputs": []
    },
    {
      "cell_type": "markdown",
      "metadata": {
        "id": "pWBLyzBQWJFJ"
      },
      "source": [
        "### Solution"
      ]
    },
    {
      "cell_type": "code",
      "metadata": {
        "colab": {
          "base_uri": "https://localhost:8080/",
          "height": 386
        },
        "id": "4dCa07PjV2x5",
        "outputId": "972709e9-b387-4c0a-b6d0-c7a0bdf4c023"
      },
      "source": [
        "sns.catplot(data = vdat, x = 'setsize', y = 'rt', hue = 'target', col = 'dyn', kind = 'box')"
      ],
      "execution_count": null,
      "outputs": [
        {
          "output_type": "execute_result",
          "data": {
            "text/plain": [
              "<seaborn.axisgrid.FacetGrid at 0x7f3861836110>"
            ]
          },
          "metadata": {},
          "execution_count": 8
        },
        {
          "output_type": "display_data",
          "data": {
            "image/png": "[encoded data removed]",
            "text/plain": [
              "<Figure size 793.5x360 with 2 Axes>"
            ]
          },
          "metadata": {
            "needs_background": "light"
          }
        }
      ]
    },
    {
      "cell_type": "markdown",
      "metadata": {
        "id": "txyTYyBFWcdK"
      },
      "source": [
        "## Using chain rule to summarize data"
      ]
    },
    {
      "cell_type": "markdown",
      "metadata": {
        "id": "abosX-xwteIi"
      },
      "source": [
        "For those are familiar with R `tidyverse` way analysis, you can find similar chain verbs in Pandas: \n",
        "\n",
        "\n",
        "<table >\n",
        "  <tr>\n",
        "    <td><b>dplyr</b></td>\n",
        "    <td><b>pandas</b></td>\n",
        "  </tr>\n",
        "  <tr>\n",
        "    <td><code>filter()</code> (and <code>slice()</code>)</td>\n",
        "    <td><code>query()</code> (and <code>loc[]</code>, <code>iloc[]</code>)</td>\n",
        "  </tr>\n",
        "  <tr>\n",
        "    <td><code>arrange()</code></td>\n",
        "    <td><code>sort_values</code> and <code>sort_index()</code></td>\n",
        "  </tr>\n",
        "  <tr>\n",
        "  <td><code>select() </code>(and <code>rename()</code>)</td>\n",
        "    <td><code>__getitem__ </code> (and <code>rename()</code>)</td>\n",
        "  </tr>\n",
        "  <tr>\n",
        "  <td><code>distinct()</code></td>\n",
        "    <td><code>drop_duplicates()</code></td>\n",
        "  </tr>\n",
        "  <tr>\n",
        "    <td><code>mutate()</code> (and <code>transmute()</code>)</td>\n",
        "    <td>assign</td>\n",
        "  </tr>\n",
        "  <tr>\n",
        "    <td>summarise()</td>\n",
        "    <td>agg</td>\n",
        "  </tr>\n",
        "  <tr>\n",
        "    <td>sample_n() and sample_frac()</td>\n",
        "    <td><code>sample</code></td>\n",
        "  </tr>\n",
        "  <tr>\n",
        "    <td><code>%>%</code></td>\n",
        "    <td><code>pipe</code></td>\n",
        "  </tr>\n",
        "\n",
        "</table>\n",
        "\n",
        "\n",
        "Some of the \"missing\" verbs in pandas are because there are other, different ways of achieving the same goal. For example `summarise` is spread across `mean`, `std`, etc. It's closest analog is actually the `.agg` method on a `GroupBy` object, as it reduces a DataFrame to a single row (per group). This isn't quite what `.describe` does.\n",
        "\n"
      ]
    },
    {
      "cell_type": "markdown",
      "metadata": {
        "id": "NLkpsShoteIj"
      },
      "source": [
        "#### Filter rows with  query()\n",
        "\n",
        "\n"
      ]
    },
    {
      "cell_type": "code",
      "metadata": {
        "id": "Vn0Uz-_8teIk",
        "colab": {
          "base_uri": "https://localhost:8080/",
          "height": 233
        },
        "outputId": "cf775a02-dd8a-48dc-8288-aa43c2f36328"
      },
      "source": [
        "vdat.query(\"setsize == 12 & sub == 10 & correct == 1\")"
      ],
      "execution_count": null,
      "outputs": [
        {
          "output_type": "execute_result",
          "data": {
            "text/html": [
              "<div>\n",
              "<style scoped>\n",
              "    .dataframe tbody tr th:only-of-type {\n",
              "        vertical-align: middle;\n",
              "    }\n",
              "\n",
              "    .dataframe tbody tr th {\n",
              "        vertical-align: top;\n",
              "    }\n",
              "\n",
              "    .dataframe thead th {\n",
              "        text-align: right;\n",
              "    }\n",
              "</style>\n",
              "<table border=\"1\" class=\"dataframe\">\n",
              "  <thead>\n",
              "    <tr style=\"text-align: right;\">\n",
              "      <th></th>\n",
              "      <th>target</th>\n",
              "      <th>setsize</th>\n",
              "      <th>dyn</th>\n",
              "      <th>resp</th>\n",
              "      <th>rt</th>\n",
              "      <th>sub</th>\n",
              "      <th>exp</th>\n",
              "      <th>correct</th>\n",
              "    </tr>\n",
              "  </thead>\n",
              "  <tbody>\n",
              "    <tr>\n",
              "      <th>3780</th>\n",
              "      <td>Absent</td>\n",
              "      <td>12</td>\n",
              "      <td>Static</td>\n",
              "      <td>2</td>\n",
              "      <td>2.779448</td>\n",
              "      <td>10</td>\n",
              "      <td>1</td>\n",
              "      <td>1</td>\n",
              "    </tr>\n",
              "    <tr>\n",
              "      <th>3783</th>\n",
              "      <td>Absent</td>\n",
              "      <td>12</td>\n",
              "      <td>Static</td>\n",
              "      <td>2</td>\n",
              "      <td>1.218132</td>\n",
              "      <td>10</td>\n",
              "      <td>1</td>\n",
              "      <td>1</td>\n",
              "    </tr>\n",
              "    <tr>\n",
              "      <th>...</th>\n",
              "      <td>...</td>\n",
              "      <td>...</td>\n",
              "      <td>...</td>\n",
              "      <td>...</td>\n",
              "      <td>...</td>\n",
              "      <td>...</td>\n",
              "      <td>...</td>\n",
              "      <td>...</td>\n",
              "    </tr>\n",
              "    <tr>\n",
              "      <th>4198</th>\n",
              "      <td>Present</td>\n",
              "      <td>12</td>\n",
              "      <td>Dynamic</td>\n",
              "      <td>1</td>\n",
              "      <td>0.794616</td>\n",
              "      <td>10</td>\n",
              "      <td>1</td>\n",
              "      <td>1</td>\n",
              "    </tr>\n",
              "    <tr>\n",
              "      <th>4199</th>\n",
              "      <td>Absent</td>\n",
              "      <td>12</td>\n",
              "      <td>Dynamic</td>\n",
              "      <td>2</td>\n",
              "      <td>1.324017</td>\n",
              "      <td>10</td>\n",
              "      <td>1</td>\n",
              "      <td>1</td>\n",
              "    </tr>\n",
              "  </tbody>\n",
              "</table>\n",
              "<p>138 rows × 8 columns</p>\n",
              "</div>"
            ],
            "text/plain": [
              "       target  setsize      dyn  resp        rt  sub  exp  correct\n",
              "3780   Absent       12   Static     2  2.779448   10    1        1\n",
              "3783   Absent       12   Static     2  1.218132   10    1        1\n",
              "...       ...      ...      ...   ...       ...  ...  ...      ...\n",
              "4198  Present       12  Dynamic     1  0.794616   10    1        1\n",
              "4199   Absent       12  Dynamic     2  1.324017   10    1        1\n",
              "\n",
              "[138 rows x 8 columns]"
            ]
          },
          "metadata": {},
          "execution_count": 9
        }
      ]
    },
    {
      "cell_type": "markdown",
      "metadata": {
        "id": "mnuFD0IgteIo"
      },
      "source": [
        "The verbose version:"
      ]
    },
    {
      "cell_type": "code",
      "metadata": {
        "id": "PUsv_S3vteIr",
        "colab": {
          "base_uri": "https://localhost:8080/",
          "height": 233
        },
        "outputId": "eb93c5ee-1aa2-486b-bf71-21ab6a524db5"
      },
      "source": [
        "vdat[(vdat.setsize == 12) & (vdat['sub'] == 10) & (vdat.correct == 1)]\n",
        "# note: pandas has function pandas.sub. So if you use vdat.sub, pandas will regard it as subtraction function!"
      ],
      "execution_count": null,
      "outputs": [
        {
          "output_type": "execute_result",
          "data": {
            "text/html": [
              "<div>\n",
              "<style scoped>\n",
              "    .dataframe tbody tr th:only-of-type {\n",
              "        vertical-align: middle;\n",
              "    }\n",
              "\n",
              "    .dataframe tbody tr th {\n",
              "        vertical-align: top;\n",
              "    }\n",
              "\n",
              "    .dataframe thead th {\n",
              "        text-align: right;\n",
              "    }\n",
              "</style>\n",
              "<table border=\"1\" class=\"dataframe\">\n",
              "  <thead>\n",
              "    <tr style=\"text-align: right;\">\n",
              "      <th></th>\n",
              "      <th>target</th>\n",
              "      <th>setsize</th>\n",
              "      <th>dyn</th>\n",
              "      <th>resp</th>\n",
              "      <th>rt</th>\n",
              "      <th>sub</th>\n",
              "      <th>exp</th>\n",
              "      <th>correct</th>\n",
              "    </tr>\n",
              "  </thead>\n",
              "  <tbody>\n",
              "    <tr>\n",
              "      <th>3780</th>\n",
              "      <td>Absent</td>\n",
              "      <td>12</td>\n",
              "      <td>Static</td>\n",
              "      <td>2</td>\n",
              "      <td>2.779448</td>\n",
              "      <td>10</td>\n",
              "      <td>1</td>\n",
              "      <td>1</td>\n",
              "    </tr>\n",
              "    <tr>\n",
              "      <th>3783</th>\n",
              "      <td>Absent</td>\n",
              "      <td>12</td>\n",
              "      <td>Static</td>\n",
              "      <td>2</td>\n",
              "      <td>1.218132</td>\n",
              "      <td>10</td>\n",
              "      <td>1</td>\n",
              "      <td>1</td>\n",
              "    </tr>\n",
              "    <tr>\n",
              "      <th>...</th>\n",
              "      <td>...</td>\n",
              "      <td>...</td>\n",
              "      <td>...</td>\n",
              "      <td>...</td>\n",
              "      <td>...</td>\n",
              "      <td>...</td>\n",
              "      <td>...</td>\n",
              "      <td>...</td>\n",
              "    </tr>\n",
              "    <tr>\n",
              "      <th>4198</th>\n",
              "      <td>Present</td>\n",
              "      <td>12</td>\n",
              "      <td>Dynamic</td>\n",
              "      <td>1</td>\n",
              "      <td>0.794616</td>\n",
              "      <td>10</td>\n",
              "      <td>1</td>\n",
              "      <td>1</td>\n",
              "    </tr>\n",
              "    <tr>\n",
              "      <th>4199</th>\n",
              "      <td>Absent</td>\n",
              "      <td>12</td>\n",
              "      <td>Dynamic</td>\n",
              "      <td>2</td>\n",
              "      <td>1.324017</td>\n",
              "      <td>10</td>\n",
              "      <td>1</td>\n",
              "      <td>1</td>\n",
              "    </tr>\n",
              "  </tbody>\n",
              "</table>\n",
              "<p>138 rows × 8 columns</p>\n",
              "</div>"
            ],
            "text/plain": [
              "       target  setsize      dyn  resp        rt  sub  exp  correct\n",
              "3780   Absent       12   Static     2  2.779448   10    1        1\n",
              "3783   Absent       12   Static     2  1.218132   10    1        1\n",
              "...       ...      ...      ...   ...       ...  ...  ...      ...\n",
              "4198  Present       12  Dynamic     1  0.794616   10    1        1\n",
              "4199   Absent       12  Dynamic     2  1.324017   10    1        1\n",
              "\n",
              "[138 rows x 8 columns]"
            ]
          },
          "metadata": {},
          "execution_count": 10
        }
      ]
    },
    {
      "cell_type": "markdown",
      "metadata": {
        "id": "pCshLLNmteI-"
      },
      "source": [
        "### Select columns with []"
      ]
    },
    {
      "cell_type": "code",
      "metadata": {
        "id": "1N12sNpQteI_",
        "colab": {
          "base_uri": "https://localhost:8080/",
          "height": 233
        },
        "outputId": "5a5a9ffe-e70b-4c8e-c725-5027cbac0b28"
      },
      "source": [
        "# select(data, subno, Cond, rt) \n",
        "vdat[['sub', 'setsize', 'rt']]"
      ],
      "execution_count": null,
      "outputs": [
        {
          "output_type": "execute_result",
          "data": {
            "text/html": [
              "<div>\n",
              "<style scoped>\n",
              "    .dataframe tbody tr th:only-of-type {\n",
              "        vertical-align: middle;\n",
              "    }\n",
              "\n",
              "    .dataframe tbody tr th {\n",
              "        vertical-align: top;\n",
              "    }\n",
              "\n",
              "    .dataframe thead th {\n",
              "        text-align: right;\n",
              "    }\n",
              "</style>\n",
              "<table border=\"1\" class=\"dataframe\">\n",
              "  <thead>\n",
              "    <tr style=\"text-align: right;\">\n",
              "      <th></th>\n",
              "      <th>sub</th>\n",
              "      <th>setsize</th>\n",
              "      <th>rt</th>\n",
              "    </tr>\n",
              "  </thead>\n",
              "  <tbody>\n",
              "    <tr>\n",
              "      <th>0</th>\n",
              "      <td>1</td>\n",
              "      <td>12</td>\n",
              "      <td>2.583007</td>\n",
              "    </tr>\n",
              "    <tr>\n",
              "      <th>1</th>\n",
              "      <td>1</td>\n",
              "      <td>8</td>\n",
              "      <td>0.935967</td>\n",
              "    </tr>\n",
              "    <tr>\n",
              "      <th>...</th>\n",
              "      <td>...</td>\n",
              "      <td>...</td>\n",
              "      <td>...</td>\n",
              "    </tr>\n",
              "    <tr>\n",
              "      <th>4618</th>\n",
              "      <td>11</td>\n",
              "      <td>12</td>\n",
              "      <td>0.994617</td>\n",
              "    </tr>\n",
              "    <tr>\n",
              "      <th>4619</th>\n",
              "      <td>11</td>\n",
              "      <td>16</td>\n",
              "      <td>1.253425</td>\n",
              "    </tr>\n",
              "  </tbody>\n",
              "</table>\n",
              "<p>4273 rows × 3 columns</p>\n",
              "</div>"
            ],
            "text/plain": [
              "      sub  setsize        rt\n",
              "0       1       12  2.583007\n",
              "1       1        8  0.935967\n",
              "...   ...      ...       ...\n",
              "4618   11       12  0.994617\n",
              "4619   11       16  1.253425\n",
              "\n",
              "[4273 rows x 3 columns]"
            ]
          },
          "metadata": {},
          "execution_count": 11
        }
      ]
    },
    {
      "cell_type": "markdown",
      "metadata": {
        "id": "VKkDy9vrteJD"
      },
      "source": [
        "### Rename\n",
        "\n",
        "Similar to `.replace()`, `.rename()` function also copies the data and return a new object. So you need to store it in a new object. "
      ]
    },
    {
      "cell_type": "code",
      "metadata": {
        "id": "NqfRyoS2teJD",
        "colab": {
          "base_uri": "https://localhost:8080/",
          "height": 204
        },
        "outputId": "442915e1-2f43-4c16-c866-2bdd4cac4cfd"
      },
      "source": [
        "ndata = dat.rename(columns={'dyn': 'Display'})\n",
        "ndata.head()"
      ],
      "execution_count": null,
      "outputs": [
        {
          "output_type": "execute_result",
          "data": {
            "text/html": [
              "<div>\n",
              "<style scoped>\n",
              "    .dataframe tbody tr th:only-of-type {\n",
              "        vertical-align: middle;\n",
              "    }\n",
              "\n",
              "    .dataframe tbody tr th {\n",
              "        vertical-align: top;\n",
              "    }\n",
              "\n",
              "    .dataframe thead th {\n",
              "        text-align: right;\n",
              "    }\n",
              "</style>\n",
              "<table border=\"1\" class=\"dataframe\">\n",
              "  <thead>\n",
              "    <tr style=\"text-align: right;\">\n",
              "      <th></th>\n",
              "      <th>target</th>\n",
              "      <th>setsize</th>\n",
              "      <th>Display</th>\n",
              "      <th>resp</th>\n",
              "      <th>rt</th>\n",
              "      <th>sub</th>\n",
              "      <th>exp</th>\n",
              "      <th>correct</th>\n",
              "    </tr>\n",
              "  </thead>\n",
              "  <tbody>\n",
              "    <tr>\n",
              "      <th>0</th>\n",
              "      <td>Absent</td>\n",
              "      <td>12</td>\n",
              "      <td>Static</td>\n",
              "      <td>2</td>\n",
              "      <td>2.583007</td>\n",
              "      <td>1</td>\n",
              "      <td>1</td>\n",
              "      <td>1</td>\n",
              "    </tr>\n",
              "    <tr>\n",
              "      <th>1</th>\n",
              "      <td>Absent</td>\n",
              "      <td>8</td>\n",
              "      <td>Static</td>\n",
              "      <td>2</td>\n",
              "      <td>0.935967</td>\n",
              "      <td>1</td>\n",
              "      <td>1</td>\n",
              "      <td>1</td>\n",
              "    </tr>\n",
              "    <tr>\n",
              "      <th>2</th>\n",
              "      <td>Present</td>\n",
              "      <td>16</td>\n",
              "      <td>Static</td>\n",
              "      <td>1</td>\n",
              "      <td>0.794771</td>\n",
              "      <td>1</td>\n",
              "      <td>1</td>\n",
              "      <td>1</td>\n",
              "    </tr>\n",
              "    <tr>\n",
              "      <th>3</th>\n",
              "      <td>Present</td>\n",
              "      <td>8</td>\n",
              "      <td>Static</td>\n",
              "      <td>1</td>\n",
              "      <td>1.241838</td>\n",
              "      <td>1</td>\n",
              "      <td>1</td>\n",
              "      <td>1</td>\n",
              "    </tr>\n",
              "    <tr>\n",
              "      <th>4</th>\n",
              "      <td>Absent</td>\n",
              "      <td>12</td>\n",
              "      <td>Static</td>\n",
              "      <td>2</td>\n",
              "      <td>1.759485</td>\n",
              "      <td>1</td>\n",
              "      <td>1</td>\n",
              "      <td>1</td>\n",
              "    </tr>\n",
              "  </tbody>\n",
              "</table>\n",
              "</div>"
            ],
            "text/plain": [
              "    target  setsize Display  resp        rt  sub  exp  correct\n",
              "0   Absent       12  Static     2  2.583007    1    1        1\n",
              "1   Absent        8  Static     2  0.935967    1    1        1\n",
              "2  Present       16  Static     1  0.794771    1    1        1\n",
              "3  Present        8  Static     1  1.241838    1    1        1\n",
              "4   Absent       12  Static     2  1.759485    1    1        1"
            ]
          },
          "metadata": {},
          "execution_count": 12
        }
      ]
    },
    {
      "cell_type": "markdown",
      "metadata": {
        "id": "-V5uJvjateJH"
      },
      "source": [
        "Pandas is more verbose, but the the argument to `columns` can be any mapping. So it's often used with a function to perform a common task, say `df.rename(columns=lambda x: x.replace('-', '_'))` to replace any dashes with underscores. Also, ``rename`` (the pandas version) can be applied to the Index."
      ]
    },
    {
      "cell_type": "code",
      "metadata": {
        "colab": {
          "base_uri": "https://localhost:8080/",
          "height": 233
        },
        "id": "4DI_eJBTgOP5",
        "outputId": "3df3980d-48f9-4873-e1cb-a9f0e771c7ee"
      },
      "source": [
        "# rename 'sub' to 'participant', 'sub' is a function in pandas\n",
        "vdat = vdat.rename(columns = {'sub':'participant'})\n",
        "vdat"
      ],
      "execution_count": null,
      "outputs": [
        {
          "output_type": "execute_result",
          "data": {
            "text/html": [
              "<div>\n",
              "<style scoped>\n",
              "    .dataframe tbody tr th:only-of-type {\n",
              "        vertical-align: middle;\n",
              "    }\n",
              "\n",
              "    .dataframe tbody tr th {\n",
              "        vertical-align: top;\n",
              "    }\n",
              "\n",
              "    .dataframe thead th {\n",
              "        text-align: right;\n",
              "    }\n",
              "</style>\n",
              "<table border=\"1\" class=\"dataframe\">\n",
              "  <thead>\n",
              "    <tr style=\"text-align: right;\">\n",
              "      <th></th>\n",
              "      <th>target</th>\n",
              "      <th>setsize</th>\n",
              "      <th>dyn</th>\n",
              "      <th>resp</th>\n",
              "      <th>rt</th>\n",
              "      <th>participant</th>\n",
              "      <th>exp</th>\n",
              "      <th>correct</th>\n",
              "    </tr>\n",
              "  </thead>\n",
              "  <tbody>\n",
              "    <tr>\n",
              "      <th>0</th>\n",
              "      <td>Absent</td>\n",
              "      <td>12</td>\n",
              "      <td>Static</td>\n",
              "      <td>2</td>\n",
              "      <td>2.583007</td>\n",
              "      <td>1</td>\n",
              "      <td>1</td>\n",
              "      <td>1</td>\n",
              "    </tr>\n",
              "    <tr>\n",
              "      <th>1</th>\n",
              "      <td>Absent</td>\n",
              "      <td>8</td>\n",
              "      <td>Static</td>\n",
              "      <td>2</td>\n",
              "      <td>0.935967</td>\n",
              "      <td>1</td>\n",
              "      <td>1</td>\n",
              "      <td>1</td>\n",
              "    </tr>\n",
              "    <tr>\n",
              "      <th>...</th>\n",
              "      <td>...</td>\n",
              "      <td>...</td>\n",
              "      <td>...</td>\n",
              "      <td>...</td>\n",
              "      <td>...</td>\n",
              "      <td>...</td>\n",
              "      <td>...</td>\n",
              "      <td>...</td>\n",
              "    </tr>\n",
              "    <tr>\n",
              "      <th>4618</th>\n",
              "      <td>Absent</td>\n",
              "      <td>12</td>\n",
              "      <td>Static</td>\n",
              "      <td>2</td>\n",
              "      <td>0.994617</td>\n",
              "      <td>11</td>\n",
              "      <td>1</td>\n",
              "      <td>1</td>\n",
              "    </tr>\n",
              "    <tr>\n",
              "      <th>4619</th>\n",
              "      <td>Absent</td>\n",
              "      <td>16</td>\n",
              "      <td>Static</td>\n",
              "      <td>2</td>\n",
              "      <td>1.253425</td>\n",
              "      <td>11</td>\n",
              "      <td>1</td>\n",
              "      <td>1</td>\n",
              "    </tr>\n",
              "  </tbody>\n",
              "</table>\n",
              "<p>4273 rows × 8 columns</p>\n",
              "</div>"
            ],
            "text/plain": [
              "      target  setsize     dyn  resp        rt  participant  exp  correct\n",
              "0     Absent       12  Static     2  2.583007            1    1        1\n",
              "1     Absent        8  Static     2  0.935967            1    1        1\n",
              "...      ...      ...     ...   ...       ...          ...  ...      ...\n",
              "4618  Absent       12  Static     2  0.994617           11    1        1\n",
              "4619  Absent       16  Static     2  1.253425           11    1        1\n",
              "\n",
              "[4273 rows x 8 columns]"
            ]
          },
          "metadata": {},
          "execution_count": 13
        }
      ]
    },
    {
      "cell_type": "markdown",
      "metadata": {
        "id": "TxbfveKeteJJ"
      },
      "source": [
        "### Extract distinct (unique) rows \n",
        "\n",
        "In the above explorative data anlysis we have already used this function. "
      ]
    },
    {
      "cell_type": "code",
      "metadata": {
        "id": "0rRBfsXGteJK",
        "colab": {
          "base_uri": "https://localhost:8080/"
        },
        "outputId": "3acbf384-c4f4-40a3-aa2e-2976598c0cb3"
      },
      "source": [
        "# distinct(select(data, subno))\n",
        "dat.setsize.unique()"
      ],
      "execution_count": null,
      "outputs": [
        {
          "output_type": "execute_result",
          "data": {
            "text/plain": [
              "array([12,  8, 16])"
            ]
          },
          "metadata": {},
          "execution_count": 14
        }
      ]
    },
    {
      "cell_type": "markdown",
      "metadata": {
        "id": "A4-yYDs7teJN"
      },
      "source": [
        "FYI this returns a numpy array instead of a Series."
      ]
    },
    {
      "cell_type": "code",
      "metadata": {
        "id": "9bWe8NfjteJO",
        "colab": {
          "base_uri": "https://localhost:8080/",
          "height": 233
        },
        "outputId": "21fa6123-c10a-4ce5-93ef-84a13c6036d4"
      },
      "source": [
        "ndata[['setsize','target']].drop_duplicates()"
      ],
      "execution_count": null,
      "outputs": [
        {
          "output_type": "execute_result",
          "data": {
            "text/html": [
              "<div>\n",
              "<style scoped>\n",
              "    .dataframe tbody tr th:only-of-type {\n",
              "        vertical-align: middle;\n",
              "    }\n",
              "\n",
              "    .dataframe tbody tr th {\n",
              "        vertical-align: top;\n",
              "    }\n",
              "\n",
              "    .dataframe thead th {\n",
              "        text-align: right;\n",
              "    }\n",
              "</style>\n",
              "<table border=\"1\" class=\"dataframe\">\n",
              "  <thead>\n",
              "    <tr style=\"text-align: right;\">\n",
              "      <th></th>\n",
              "      <th>setsize</th>\n",
              "      <th>target</th>\n",
              "    </tr>\n",
              "  </thead>\n",
              "  <tbody>\n",
              "    <tr>\n",
              "      <th>0</th>\n",
              "      <td>12</td>\n",
              "      <td>Absent</td>\n",
              "    </tr>\n",
              "    <tr>\n",
              "      <th>1</th>\n",
              "      <td>8</td>\n",
              "      <td>Absent</td>\n",
              "    </tr>\n",
              "    <tr>\n",
              "      <th>...</th>\n",
              "      <td>...</td>\n",
              "      <td>...</td>\n",
              "    </tr>\n",
              "    <tr>\n",
              "      <th>7</th>\n",
              "      <td>16</td>\n",
              "      <td>Absent</td>\n",
              "    </tr>\n",
              "    <tr>\n",
              "      <th>9</th>\n",
              "      <td>12</td>\n",
              "      <td>Present</td>\n",
              "    </tr>\n",
              "  </tbody>\n",
              "</table>\n",
              "<p>6 rows × 2 columns</p>\n",
              "</div>"
            ],
            "text/plain": [
              "    setsize   target\n",
              "0        12   Absent\n",
              "1         8   Absent\n",
              "..      ...      ...\n",
              "7        16   Absent\n",
              "9        12  Present\n",
              "\n",
              "[6 rows x 2 columns]"
            ]
          },
          "metadata": {},
          "execution_count": 15
        }
      ]
    },
    {
      "cell_type": "markdown",
      "metadata": {
        "id": "QZygXzL1teJQ"
      },
      "source": [
        "### Add new columns with assign() "
      ]
    },
    {
      "cell_type": "code",
      "metadata": {
        "id": "rv-VVi94teJR",
        "colab": {
          "base_uri": "https://localhost:8080/",
          "height": 233
        },
        "outputId": "f22207e5-5318-4ae6-e056-f1ed69b5ce1f"
      },
      "source": [
        "# mutate(ndata,rtms = rt*1000)\n",
        "\n",
        "ndata.assign(rtms=ndata.rt*1000, nsub = ndata['sub'] + 100)"
      ],
      "execution_count": null,
      "outputs": [
        {
          "output_type": "execute_result",
          "data": {
            "text/html": [
              "<div>\n",
              "<style scoped>\n",
              "    .dataframe tbody tr th:only-of-type {\n",
              "        vertical-align: middle;\n",
              "    }\n",
              "\n",
              "    .dataframe tbody tr th {\n",
              "        vertical-align: top;\n",
              "    }\n",
              "\n",
              "    .dataframe thead th {\n",
              "        text-align: right;\n",
              "    }\n",
              "</style>\n",
              "<table border=\"1\" class=\"dataframe\">\n",
              "  <thead>\n",
              "    <tr style=\"text-align: right;\">\n",
              "      <th></th>\n",
              "      <th>target</th>\n",
              "      <th>setsize</th>\n",
              "      <th>Display</th>\n",
              "      <th>resp</th>\n",
              "      <th>rt</th>\n",
              "      <th>sub</th>\n",
              "      <th>exp</th>\n",
              "      <th>correct</th>\n",
              "      <th>rtms</th>\n",
              "      <th>nsub</th>\n",
              "    </tr>\n",
              "  </thead>\n",
              "  <tbody>\n",
              "    <tr>\n",
              "      <th>0</th>\n",
              "      <td>Absent</td>\n",
              "      <td>12</td>\n",
              "      <td>Static</td>\n",
              "      <td>2</td>\n",
              "      <td>2.583007</td>\n",
              "      <td>1</td>\n",
              "      <td>1</td>\n",
              "      <td>1</td>\n",
              "      <td>2583.006817</td>\n",
              "      <td>101</td>\n",
              "    </tr>\n",
              "    <tr>\n",
              "      <th>1</th>\n",
              "      <td>Absent</td>\n",
              "      <td>8</td>\n",
              "      <td>Static</td>\n",
              "      <td>2</td>\n",
              "      <td>0.935967</td>\n",
              "      <td>1</td>\n",
              "      <td>1</td>\n",
              "      <td>1</td>\n",
              "      <td>935.967064</td>\n",
              "      <td>101</td>\n",
              "    </tr>\n",
              "    <tr>\n",
              "      <th>...</th>\n",
              "      <td>...</td>\n",
              "      <td>...</td>\n",
              "      <td>...</td>\n",
              "      <td>...</td>\n",
              "      <td>...</td>\n",
              "      <td>...</td>\n",
              "      <td>...</td>\n",
              "      <td>...</td>\n",
              "      <td>...</td>\n",
              "      <td>...</td>\n",
              "    </tr>\n",
              "    <tr>\n",
              "      <th>4618</th>\n",
              "      <td>Absent</td>\n",
              "      <td>12</td>\n",
              "      <td>Static</td>\n",
              "      <td>2</td>\n",
              "      <td>0.994617</td>\n",
              "      <td>11</td>\n",
              "      <td>1</td>\n",
              "      <td>1</td>\n",
              "      <td>994.616595</td>\n",
              "      <td>111</td>\n",
              "    </tr>\n",
              "    <tr>\n",
              "      <th>4619</th>\n",
              "      <td>Absent</td>\n",
              "      <td>16</td>\n",
              "      <td>Static</td>\n",
              "      <td>2</td>\n",
              "      <td>1.253425</td>\n",
              "      <td>11</td>\n",
              "      <td>1</td>\n",
              "      <td>1</td>\n",
              "      <td>1253.424773</td>\n",
              "      <td>111</td>\n",
              "    </tr>\n",
              "  </tbody>\n",
              "</table>\n",
              "<p>4620 rows × 10 columns</p>\n",
              "</div>"
            ],
            "text/plain": [
              "      target  setsize Display  resp  ...  exp  correct         rtms  nsub\n",
              "0     Absent       12  Static     2  ...    1        1  2583.006817   101\n",
              "1     Absent        8  Static     2  ...    1        1   935.967064   101\n",
              "...      ...      ...     ...   ...  ...  ...      ...          ...   ...\n",
              "4618  Absent       12  Static     2  ...    1        1   994.616595   111\n",
              "4619  Absent       16  Static     2  ...    1        1  1253.424773   111\n",
              "\n",
              "[4620 rows x 10 columns]"
            ]
          },
          "metadata": {},
          "execution_count": 16
        }
      ]
    },
    {
      "cell_type": "code",
      "metadata": {
        "id": "Rnjmg1b3S7bx"
      },
      "source": [
        "# you can also do numpy traditional way\n",
        "ndata['rtms'] = ndata['rt']*1000\n",
        "ndata['nsub'] = ndata['sub'] + 100"
      ],
      "execution_count": null,
      "outputs": []
    },
    {
      "cell_type": "code",
      "metadata": {
        "id": "DKVvoRuYteJV",
        "colab": {
          "base_uri": "https://localhost:8080/",
          "height": 233
        },
        "outputId": "d61f5313-2aec-430c-cf6b-5f08a2e0d9c9"
      },
      "source": [
        "# if you need to compute two new variables with one depends on the other, you need to chain assign...\n",
        "ndata.assign(rtms=ndata.rt*1000).assign(inv_rt = lambda df: 1/df.rtms)"
      ],
      "execution_count": null,
      "outputs": [
        {
          "output_type": "execute_result",
          "data": {
            "text/html": [
              "<div>\n",
              "<style scoped>\n",
              "    .dataframe tbody tr th:only-of-type {\n",
              "        vertical-align: middle;\n",
              "    }\n",
              "\n",
              "    .dataframe tbody tr th {\n",
              "        vertical-align: top;\n",
              "    }\n",
              "\n",
              "    .dataframe thead th {\n",
              "        text-align: right;\n",
              "    }\n",
              "</style>\n",
              "<table border=\"1\" class=\"dataframe\">\n",
              "  <thead>\n",
              "    <tr style=\"text-align: right;\">\n",
              "      <th></th>\n",
              "      <th>target</th>\n",
              "      <th>setsize</th>\n",
              "      <th>Display</th>\n",
              "      <th>resp</th>\n",
              "      <th>rt</th>\n",
              "      <th>sub</th>\n",
              "      <th>exp</th>\n",
              "      <th>correct</th>\n",
              "      <th>rtms</th>\n",
              "      <th>inv_rt</th>\n",
              "    </tr>\n",
              "  </thead>\n",
              "  <tbody>\n",
              "    <tr>\n",
              "      <th>0</th>\n",
              "      <td>Absent</td>\n",
              "      <td>12</td>\n",
              "      <td>Static</td>\n",
              "      <td>2</td>\n",
              "      <td>2.583007</td>\n",
              "      <td>1</td>\n",
              "      <td>1</td>\n",
              "      <td>1</td>\n",
              "      <td>2583.006817</td>\n",
              "      <td>0.000387</td>\n",
              "    </tr>\n",
              "    <tr>\n",
              "      <th>1</th>\n",
              "      <td>Absent</td>\n",
              "      <td>8</td>\n",
              "      <td>Static</td>\n",
              "      <td>2</td>\n",
              "      <td>0.935967</td>\n",
              "      <td>1</td>\n",
              "      <td>1</td>\n",
              "      <td>1</td>\n",
              "      <td>935.967064</td>\n",
              "      <td>0.001068</td>\n",
              "    </tr>\n",
              "    <tr>\n",
              "      <th>...</th>\n",
              "      <td>...</td>\n",
              "      <td>...</td>\n",
              "      <td>...</td>\n",
              "      <td>...</td>\n",
              "      <td>...</td>\n",
              "      <td>...</td>\n",
              "      <td>...</td>\n",
              "      <td>...</td>\n",
              "      <td>...</td>\n",
              "      <td>...</td>\n",
              "    </tr>\n",
              "    <tr>\n",
              "      <th>4618</th>\n",
              "      <td>Absent</td>\n",
              "      <td>12</td>\n",
              "      <td>Static</td>\n",
              "      <td>2</td>\n",
              "      <td>0.994617</td>\n",
              "      <td>11</td>\n",
              "      <td>1</td>\n",
              "      <td>1</td>\n",
              "      <td>994.616595</td>\n",
              "      <td>0.001005</td>\n",
              "    </tr>\n",
              "    <tr>\n",
              "      <th>4619</th>\n",
              "      <td>Absent</td>\n",
              "      <td>16</td>\n",
              "      <td>Static</td>\n",
              "      <td>2</td>\n",
              "      <td>1.253425</td>\n",
              "      <td>11</td>\n",
              "      <td>1</td>\n",
              "      <td>1</td>\n",
              "      <td>1253.424773</td>\n",
              "      <td>0.000798</td>\n",
              "    </tr>\n",
              "  </tbody>\n",
              "</table>\n",
              "<p>4620 rows × 10 columns</p>\n",
              "</div>"
            ],
            "text/plain": [
              "      target  setsize Display  resp  ...  exp  correct         rtms    inv_rt\n",
              "0     Absent       12  Static     2  ...    1        1  2583.006817  0.000387\n",
              "1     Absent        8  Static     2  ...    1        1   935.967064  0.001068\n",
              "...      ...      ...     ...   ...  ...  ...      ...          ...       ...\n",
              "4618  Absent       12  Static     2  ...    1        1   994.616595  0.001005\n",
              "4619  Absent       16  Static     2  ...    1        1  1253.424773  0.000798\n",
              "\n",
              "[4620 rows x 10 columns]"
            ]
          },
          "metadata": {},
          "execution_count": 17
        }
      ]
    },
    {
      "cell_type": "markdown",
      "metadata": {
        "id": "uT2lRhswteJo"
      },
      "source": [
        "### Grouped operations \n",
        "\n",
        "Pandas uses `.groupby()` function, very much like dplyr::group_by. \n",
        "\n",
        "But you need to aware that pandas `.groupby()` will **<font color = 'red'>put grouped variables into multi-index</font>**, so the columns after grouping will not include those grouped variables. If you want to put them back **as columns** for later usage, you need to add **`.reset_index()`**. "
      ]
    },
    {
      "cell_type": "code",
      "metadata": {
        "id": "xpK65RiTteJo",
        "colab": {
          "base_uri": "https://localhost:8080/",
          "height": 235
        },
        "outputId": "75ba4e55-f539-4fd3-c7af-043c1483658f"
      },
      "source": [
        "mrt = vdat.groupby(['participant','target','dyn','setsize'])\\\n",
        "    .agg({\"resp\":\"count\",\n",
        "         \"rt\":\"mean\"})\\\n",
        "    .rename(columns={\"resp\":\"trials\"})\n",
        "mrt.head()"
      ],
      "execution_count": null,
      "outputs": [
        {
          "output_type": "execute_result",
          "data": {
            "text/html": [
              "<div>\n",
              "<style scoped>\n",
              "    .dataframe tbody tr th:only-of-type {\n",
              "        vertical-align: middle;\n",
              "    }\n",
              "\n",
              "    .dataframe tbody tr th {\n",
              "        vertical-align: top;\n",
              "    }\n",
              "\n",
              "    .dataframe thead th {\n",
              "        text-align: right;\n",
              "    }\n",
              "</style>\n",
              "<table border=\"1\" class=\"dataframe\">\n",
              "  <thead>\n",
              "    <tr style=\"text-align: right;\">\n",
              "      <th></th>\n",
              "      <th></th>\n",
              "      <th></th>\n",
              "      <th></th>\n",
              "      <th>trials</th>\n",
              "      <th>rt</th>\n",
              "    </tr>\n",
              "    <tr>\n",
              "      <th>participant</th>\n",
              "      <th>target</th>\n",
              "      <th>dyn</th>\n",
              "      <th>setsize</th>\n",
              "      <th></th>\n",
              "      <th></th>\n",
              "    </tr>\n",
              "  </thead>\n",
              "  <tbody>\n",
              "    <tr>\n",
              "      <th rowspan=\"5\" valign=\"top\">1</th>\n",
              "      <th rowspan=\"5\" valign=\"top\">Absent</th>\n",
              "      <th rowspan=\"3\" valign=\"top\">Dynamic</th>\n",
              "      <th>8</th>\n",
              "      <td>34</td>\n",
              "      <td>2.499295</td>\n",
              "    </tr>\n",
              "    <tr>\n",
              "      <th>12</th>\n",
              "      <td>33</td>\n",
              "      <td>3.053270</td>\n",
              "    </tr>\n",
              "    <tr>\n",
              "      <th>16</th>\n",
              "      <td>32</td>\n",
              "      <td>2.898478</td>\n",
              "    </tr>\n",
              "    <tr>\n",
              "      <th rowspan=\"2\" valign=\"top\">Static</th>\n",
              "      <th>8</th>\n",
              "      <td>35</td>\n",
              "      <td>1.622023</td>\n",
              "    </tr>\n",
              "    <tr>\n",
              "      <th>12</th>\n",
              "      <td>35</td>\n",
              "      <td>2.053618</td>\n",
              "    </tr>\n",
              "  </tbody>\n",
              "</table>\n",
              "</div>"
            ],
            "text/plain": [
              "                                    trials        rt\n",
              "participant target dyn     setsize                  \n",
              "1           Absent Dynamic 8            34  2.499295\n",
              "                           12           33  3.053270\n",
              "                           16           32  2.898478\n",
              "                   Static  8            35  1.622023\n",
              "                           12           35  2.053618"
            ]
          },
          "metadata": {},
          "execution_count": 18
        }
      ]
    },
    {
      "cell_type": "markdown",
      "metadata": {
        "id": "JIzuXIx6teJt"
      },
      "source": [
        "Note, when python chains span over multiple lines, take care the indentation and add one '\\' at the previous line. \n",
        "\n",
        "I think pandas is more difficult for this particular example.\n",
        "There isn't as natural a way to mix column-agnostic aggregations (like ``count``) with column-specific aggregations like the other two. You end up writing could like `.agg{'resp': 'count'}` which reads, \"I want the count of `resp`\", even though you don't care about `resp` specifically. You could just as easily have said `.agg('Cond': 'count')`.\n",
        "Additionally assigning names can't be done as cleanly in pandas; you have to just follow it up with a ``rename`` like before."
      ]
    },
    {
      "cell_type": "markdown",
      "metadata": {
        "id": "RxFiDz1KteJt"
      },
      "source": [
        "The result is a `MultiIndex` in the columns which can be a bit awkard to work with (you can drop a level with `r.columns.droplevel()`). But `MultiIndex` has its own purpose, such as subsecting data. "
      ]
    },
    {
      "cell_type": "code",
      "metadata": {
        "id": "Dx4Y-diqteJz",
        "colab": {
          "base_uri": "https://localhost:8080/",
          "height": 264
        },
        "outputId": "672773ed-ccd7-47ff-ca8d-3a61a105cc4b"
      },
      "source": [
        "# use 'multi-index' to select subset data\n",
        "# get out subno of 3.\n",
        "mrt.loc[3]"
      ],
      "execution_count": null,
      "outputs": [
        {
          "output_type": "execute_result",
          "data": {
            "text/html": [
              "<div>\n",
              "<style scoped>\n",
              "    .dataframe tbody tr th:only-of-type {\n",
              "        vertical-align: middle;\n",
              "    }\n",
              "\n",
              "    .dataframe tbody tr th {\n",
              "        vertical-align: top;\n",
              "    }\n",
              "\n",
              "    .dataframe thead th {\n",
              "        text-align: right;\n",
              "    }\n",
              "</style>\n",
              "<table border=\"1\" class=\"dataframe\">\n",
              "  <thead>\n",
              "    <tr style=\"text-align: right;\">\n",
              "      <th></th>\n",
              "      <th></th>\n",
              "      <th></th>\n",
              "      <th>trials</th>\n",
              "      <th>rt</th>\n",
              "    </tr>\n",
              "    <tr>\n",
              "      <th>target</th>\n",
              "      <th>dyn</th>\n",
              "      <th>setsize</th>\n",
              "      <th></th>\n",
              "      <th></th>\n",
              "    </tr>\n",
              "  </thead>\n",
              "  <tbody>\n",
              "    <tr>\n",
              "      <th rowspan=\"2\" valign=\"top\">Absent</th>\n",
              "      <th rowspan=\"2\" valign=\"top\">Dynamic</th>\n",
              "      <th>8</th>\n",
              "      <td>35</td>\n",
              "      <td>2.401525</td>\n",
              "    </tr>\n",
              "    <tr>\n",
              "      <th>12</th>\n",
              "      <td>34</td>\n",
              "      <td>2.504836</td>\n",
              "    </tr>\n",
              "    <tr>\n",
              "      <th>...</th>\n",
              "      <th>...</th>\n",
              "      <th>...</th>\n",
              "      <td>...</td>\n",
              "      <td>...</td>\n",
              "    </tr>\n",
              "    <tr>\n",
              "      <th rowspan=\"2\" valign=\"top\">Present</th>\n",
              "      <th rowspan=\"2\" valign=\"top\">Static</th>\n",
              "      <th>12</th>\n",
              "      <td>28</td>\n",
              "      <td>1.005707</td>\n",
              "    </tr>\n",
              "    <tr>\n",
              "      <th>16</th>\n",
              "      <td>30</td>\n",
              "      <td>1.066554</td>\n",
              "    </tr>\n",
              "  </tbody>\n",
              "</table>\n",
              "<p>12 rows × 2 columns</p>\n",
              "</div>"
            ],
            "text/plain": [
              "                         trials        rt\n",
              "target  dyn     setsize                  \n",
              "Absent  Dynamic 8            35  2.401525\n",
              "                12           34  2.504836\n",
              "...                         ...       ...\n",
              "Present Static  12           28  1.005707\n",
              "                16           30  1.066554\n",
              "\n",
              "[12 rows x 2 columns]"
            ]
          },
          "metadata": {},
          "execution_count": 19
        }
      ]
    },
    {
      "cell_type": "markdown",
      "metadata": {
        "id": "HeIGUQsMteJ4"
      },
      "source": [
        "<font color = 'blue'>\n",
        "\n",
        "**Note**:\n",
        "\n",
        "- Pandas use `.loc()` and `.iloc()` to retrieve selected rows. The former uses named index, and the latter uses number index.  \n",
        "- By default, `data['column_name']` select columns. "
      ]
    },
    {
      "cell_type": "code",
      "metadata": {
        "id": "fu-riAg7teJ5",
        "colab": {
          "base_uri": "https://localhost:8080/"
        },
        "outputId": "484e1668-74fb-4409-e584-1844b61b4c9a"
      },
      "source": [
        "# get subno 3, Target Absent, Display Dynamic, Set size of 8\n",
        "mrt.loc[(3,'Absent','Dynamic',8)]"
      ],
      "execution_count": null,
      "outputs": [
        {
          "output_type": "execute_result",
          "data": {
            "text/plain": [
              "trials    35.000000\n",
              "rt         2.401525\n",
              "Name: (3, Absent, Dynamic, 8), dtype: float64"
            ]
          },
          "metadata": {},
          "execution_count": 20
        }
      ]
    },
    {
      "cell_type": "markdown",
      "metadata": {
        "id": "fQ0g0HDmiKF3"
      },
      "source": [
        "But usually we use 'flat' table. We reset_index()"
      ]
    },
    {
      "cell_type": "code",
      "metadata": {
        "colab": {
          "base_uri": "https://localhost:8080/",
          "height": 233
        },
        "id": "BsRUZHdEiQcR",
        "outputId": "660fd0ff-ca1f-44ab-8106-97e23fb8b098"
      },
      "source": [
        "mrt = mrt.reset_index()\n",
        "mrt"
      ],
      "execution_count": null,
      "outputs": [
        {
          "output_type": "execute_result",
          "data": {
            "text/html": [
              "<div>\n",
              "<style scoped>\n",
              "    .dataframe tbody tr th:only-of-type {\n",
              "        vertical-align: middle;\n",
              "    }\n",
              "\n",
              "    .dataframe tbody tr th {\n",
              "        vertical-align: top;\n",
              "    }\n",
              "\n",
              "    .dataframe thead th {\n",
              "        text-align: right;\n",
              "    }\n",
              "</style>\n",
              "<table border=\"1\" class=\"dataframe\">\n",
              "  <thead>\n",
              "    <tr style=\"text-align: right;\">\n",
              "      <th></th>\n",
              "      <th>participant</th>\n",
              "      <th>target</th>\n",
              "      <th>dyn</th>\n",
              "      <th>setsize</th>\n",
              "      <th>trials</th>\n",
              "      <th>rt</th>\n",
              "    </tr>\n",
              "  </thead>\n",
              "  <tbody>\n",
              "    <tr>\n",
              "      <th>0</th>\n",
              "      <td>1</td>\n",
              "      <td>Absent</td>\n",
              "      <td>Dynamic</td>\n",
              "      <td>8</td>\n",
              "      <td>34</td>\n",
              "      <td>2.499295</td>\n",
              "    </tr>\n",
              "    <tr>\n",
              "      <th>1</th>\n",
              "      <td>1</td>\n",
              "      <td>Absent</td>\n",
              "      <td>Dynamic</td>\n",
              "      <td>12</td>\n",
              "      <td>33</td>\n",
              "      <td>3.053270</td>\n",
              "    </tr>\n",
              "    <tr>\n",
              "      <th>...</th>\n",
              "      <td>...</td>\n",
              "      <td>...</td>\n",
              "      <td>...</td>\n",
              "      <td>...</td>\n",
              "      <td>...</td>\n",
              "      <td>...</td>\n",
              "    </tr>\n",
              "    <tr>\n",
              "      <th>130</th>\n",
              "      <td>11</td>\n",
              "      <td>Present</td>\n",
              "      <td>Static</td>\n",
              "      <td>12</td>\n",
              "      <td>35</td>\n",
              "      <td>0.737779</td>\n",
              "    </tr>\n",
              "    <tr>\n",
              "      <th>131</th>\n",
              "      <td>11</td>\n",
              "      <td>Present</td>\n",
              "      <td>Static</td>\n",
              "      <td>16</td>\n",
              "      <td>33</td>\n",
              "      <td>0.795092</td>\n",
              "    </tr>\n",
              "  </tbody>\n",
              "</table>\n",
              "<p>132 rows × 6 columns</p>\n",
              "</div>"
            ],
            "text/plain": [
              "     participant   target      dyn  setsize  trials        rt\n",
              "0              1   Absent  Dynamic        8      34  2.499295\n",
              "1              1   Absent  Dynamic       12      33  3.053270\n",
              "..           ...      ...      ...      ...     ...       ...\n",
              "130           11  Present   Static       12      35  0.737779\n",
              "131           11  Present   Static       16      33  0.795092\n",
              "\n",
              "[132 rows x 6 columns]"
            ]
          },
          "metadata": {},
          "execution_count": 21
        }
      ]
    },
    {
      "cell_type": "code",
      "metadata": {
        "id": "KcfNrNUgteKB",
        "colab": {
          "base_uri": "https://localhost:8080/",
          "height": 386
        },
        "outputId": "88e2bfa6-8766-4df3-bbe8-499b70118f70"
      },
      "source": [
        "sns.set_style(\"ticks\")\n",
        "\n",
        "sns.catplot(x ='setsize', y = \"rt\", hue = \"target\",  kind = 'bar', col = 'dyn', data=mrt)"
      ],
      "execution_count": null,
      "outputs": [
        {
          "output_type": "execute_result",
          "data": {
            "text/plain": [
              "<seaborn.axisgrid.FacetGrid at 0x7f386128b9d0>"
            ]
          },
          "metadata": {},
          "execution_count": 22
        },
        {
          "output_type": "display_data",
          "data": {
            "image/png": "[encoded data removed]",
            "text/plain": [
              "<Figure size 793.5x360 with 2 Axes>"
            ]
          },
          "metadata": {}
        }
      ]
    },
    {
      "cell_type": "markdown",
      "metadata": {
        "id": "TT7otLwCteKJ"
      },
      "source": [
        "## Statistics with Pingouin package\n",
        "\n",
        "Python has multiple statistical packages, such as `scipy`, `statsmodels` etc. However, non of them provide statistics that we want to report, such as effect size, Bayes factor, post-hoc Bonferroni correction etc. \n",
        "\n",
        "The newly devloped package[ `pingouin`](https://pingouin-stats.org/) solves this problem! It gives the essential statistics that we want. In fact, the author of `pingouin`, [Raphael Vallat](https://raphaelvallat.com/), is a French postdoc researcher in the center for human sleep science at UC Berkeley. He knows what we psychologists want!"
      ]
    },
    {
      "cell_type": "code",
      "metadata": {
        "id": "aNOnyje1k876"
      },
      "source": [
        "import pingouin as pg"
      ],
      "execution_count": null,
      "outputs": []
    },
    {
      "cell_type": "markdown",
      "metadata": {
        "id": "j162PZDbm4a-"
      },
      "source": [
        "In a standard psychology study, we often need to test N-way repeated-measures anova. Pingouin use the function `.rm_anova`.\n",
        "\n",
        "__Note__: At the current version, the repeated-measures ANOVA only support to 2-way ANOVA! Hopefully in near future it supports N-way ANOVA. "
      ]
    },
    {
      "cell_type": "code",
      "metadata": {
        "colab": {
          "base_uri": "https://localhost:8080/",
          "height": 142
        },
        "id": "f_6GC6obnI69",
        "outputId": "71c0aea4-1e3b-4389-dc09-bc9712474ba5"
      },
      "source": [
        "# test static condition, setsize x target\n",
        "pg.rm_anova(data = mrt.query('dyn == \"Static\"'), \\\n",
        "            dv = 'rt', \\\n",
        "            within = ['setsize','target'], \\\n",
        "            subject = 'participant')"
      ],
      "execution_count": null,
      "outputs": [
        {
          "output_type": "execute_result",
          "data": {
            "text/html": [
              "<div>\n",
              "<style scoped>\n",
              "    .dataframe tbody tr th:only-of-type {\n",
              "        vertical-align: middle;\n",
              "    }\n",
              "\n",
              "    .dataframe tbody tr th {\n",
              "        vertical-align: top;\n",
              "    }\n",
              "\n",
              "    .dataframe thead th {\n",
              "        text-align: right;\n",
              "    }\n",
              "</style>\n",
              "<table border=\"1\" class=\"dataframe\">\n",
              "  <thead>\n",
              "    <tr style=\"text-align: right;\">\n",
              "      <th></th>\n",
              "      <th>Source</th>\n",
              "      <th>SS</th>\n",
              "      <th>ddof1</th>\n",
              "      <th>ddof2</th>\n",
              "      <th>MS</th>\n",
              "      <th>F</th>\n",
              "      <th>p-unc</th>\n",
              "      <th>p-GG-corr</th>\n",
              "      <th>np2</th>\n",
              "      <th>eps</th>\n",
              "    </tr>\n",
              "  </thead>\n",
              "  <tbody>\n",
              "    <tr>\n",
              "      <th>0</th>\n",
              "      <td>setsize</td>\n",
              "      <td>1.749433</td>\n",
              "      <td>2</td>\n",
              "      <td>20</td>\n",
              "      <td>0.874716</td>\n",
              "      <td>55.448981</td>\n",
              "      <td>6.933797e-09</td>\n",
              "      <td>0.000003</td>\n",
              "      <td>0.847209</td>\n",
              "      <td>0.616328</td>\n",
              "    </tr>\n",
              "    <tr>\n",
              "      <th>1</th>\n",
              "      <td>target</td>\n",
              "      <td>6.685902</td>\n",
              "      <td>1</td>\n",
              "      <td>10</td>\n",
              "      <td>6.685902</td>\n",
              "      <td>46.065234</td>\n",
              "      <td>4.816293e-05</td>\n",
              "      <td>0.000048</td>\n",
              "      <td>0.821636</td>\n",
              "      <td>1.000000</td>\n",
              "    </tr>\n",
              "    <tr>\n",
              "      <th>2</th>\n",
              "      <td>setsize * target</td>\n",
              "      <td>0.530956</td>\n",
              "      <td>2</td>\n",
              "      <td>20</td>\n",
              "      <td>0.265478</td>\n",
              "      <td>20.490551</td>\n",
              "      <td>1.439950e-05</td>\n",
              "      <td>0.000396</td>\n",
              "      <td>0.672030</td>\n",
              "      <td>0.616363</td>\n",
              "    </tr>\n",
              "  </tbody>\n",
              "</table>\n",
              "</div>"
            ],
            "text/plain": [
              "             Source        SS  ddof1  ...  p-GG-corr       np2       eps\n",
              "0           setsize  1.749433      2  ...   0.000003  0.847209  0.616328\n",
              "1            target  6.685902      1  ...   0.000048  0.821636  1.000000\n",
              "2  setsize * target  0.530956      2  ...   0.000396  0.672030  0.616363\n",
              "\n",
              "[3 rows x 10 columns]"
            ]
          },
          "metadata": {},
          "execution_count": 24
        }
      ]
    },
    {
      "cell_type": "markdown",
      "metadata": {
        "id": "saz7b_BJsVtp"
      },
      "source": [
        "After a repeated-measures ANOVA, when one factor has more than 3 levels, we need to conduct posthoc comparison, given that the significance of ANOVA main effect does not say which level is significantly different from the others. The post-hoc comparisons often need some adjustments to avoid multiple comparison problems. \n",
        "\n",
        "The conservative method is Bonferroni correction, which basically reduces the $p$ by $n$ comparisons to control the maximum family-wise error rate at $\\alpha$:\n",
        "\n",
        "$$P(T_i\\text{ passes} | H_0) \\le \\alpha / n$$.\n",
        "\n",
        "Often the Bonferroni correction is too conservative (treating all comparisons eaqually). Alternative way is to use Holm's step-down procedure. The basic idea of Holm correction is like this:\n",
        "\n",
        "1. Ordering the comparison p-values from lowest to highest $p_1, p_2,\\cdots, p_n $ and let the associated hypotheses be $H_1, H_2, \\cdots, H_n$.\n",
        "2. Let $k$ be the minimal index such that $p_k > \\frac{\\alpha}{n + 1 -k}$\n",
        "3. Reject the null hypotheses  $H_1, H_2, \\cdots, H_{k-1}$. If $k=1$ then none of the hypotheses are rejected. "
      ]
    },
    {
      "cell_type": "code",
      "metadata": {
        "colab": {
          "base_uri": "https://localhost:8080/",
          "height": 142
        },
        "id": "-JlVp9KDoiVG",
        "outputId": "45fe15da-d6d8-4638-cf21-e7c81f8cd530"
      },
      "source": [
        "# post-hoc pair-wise tests\n",
        "# use the same inputs as rm_anova(), and specify padjust: 'bonf', 'holm', 'fdr_bh' etc.\n",
        "pg.pairwise_ttests(data = mrt.query('dyn == \"Static\"'), \\\n",
        "            dv = 'rt',  within = 'setsize', subject = 'participant', padjust = 'holm')"
      ],
      "execution_count": null,
      "outputs": [
        {
          "output_type": "execute_result",
          "data": {
            "text/html": [
              "<div>\n",
              "<style scoped>\n",
              "    .dataframe tbody tr th:only-of-type {\n",
              "        vertical-align: middle;\n",
              "    }\n",
              "\n",
              "    .dataframe tbody tr th {\n",
              "        vertical-align: top;\n",
              "    }\n",
              "\n",
              "    .dataframe thead th {\n",
              "        text-align: right;\n",
              "    }\n",
              "</style>\n",
              "<table border=\"1\" class=\"dataframe\">\n",
              "  <thead>\n",
              "    <tr style=\"text-align: right;\">\n",
              "      <th></th>\n",
              "      <th>Contrast</th>\n",
              "      <th>A</th>\n",
              "      <th>B</th>\n",
              "      <th>Paired</th>\n",
              "      <th>Parametric</th>\n",
              "      <th>T</th>\n",
              "      <th>dof</th>\n",
              "      <th>alternative</th>\n",
              "      <th>p-unc</th>\n",
              "      <th>p-corr</th>\n",
              "      <th>p-adjust</th>\n",
              "      <th>BF10</th>\n",
              "      <th>hedges</th>\n",
              "    </tr>\n",
              "  </thead>\n",
              "  <tbody>\n",
              "    <tr>\n",
              "      <th>0</th>\n",
              "      <td>setsize</td>\n",
              "      <td>8</td>\n",
              "      <td>12</td>\n",
              "      <td>True</td>\n",
              "      <td>True</td>\n",
              "      <td>-9.067109</td>\n",
              "      <td>10.0</td>\n",
              "      <td>two-sided</td>\n",
              "      <td>0.000004</td>\n",
              "      <td>0.000012</td>\n",
              "      <td>holm</td>\n",
              "      <td>4878.59</td>\n",
              "      <td>-1.135297</td>\n",
              "    </tr>\n",
              "    <tr>\n",
              "      <th>1</th>\n",
              "      <td>setsize</td>\n",
              "      <td>8</td>\n",
              "      <td>16</td>\n",
              "      <td>True</td>\n",
              "      <td>True</td>\n",
              "      <td>-7.764799</td>\n",
              "      <td>10.0</td>\n",
              "      <td>two-sided</td>\n",
              "      <td>0.000015</td>\n",
              "      <td>0.000031</td>\n",
              "      <td>holm</td>\n",
              "      <td>1466.13</td>\n",
              "      <td>-1.552129</td>\n",
              "    </tr>\n",
              "    <tr>\n",
              "      <th>2</th>\n",
              "      <td>setsize</td>\n",
              "      <td>12</td>\n",
              "      <td>16</td>\n",
              "      <td>True</td>\n",
              "      <td>True</td>\n",
              "      <td>-4.477864</td>\n",
              "      <td>10.0</td>\n",
              "      <td>two-sided</td>\n",
              "      <td>0.001183</td>\n",
              "      <td>0.001183</td>\n",
              "      <td>holm</td>\n",
              "      <td>35.162</td>\n",
              "      <td>-0.483686</td>\n",
              "    </tr>\n",
              "  </tbody>\n",
              "</table>\n",
              "</div>"
            ],
            "text/plain": [
              "  Contrast   A   B  Paired  ...    p-corr  p-adjust     BF10    hedges\n",
              "0  setsize   8  12    True  ...  0.000012      holm  4878.59 -1.135297\n",
              "1  setsize   8  16    True  ...  0.000031      holm  1466.13 -1.552129\n",
              "2  setsize  12  16    True  ...  0.001183      holm   35.162 -0.483686\n",
              "\n",
              "[3 rows x 13 columns]"
            ]
          },
          "metadata": {},
          "execution_count": 26
        }
      ]
    },
    {
      "cell_type": "markdown",
      "metadata": {
        "id": "v--PYa1Gv4bZ"
      },
      "source": [
        "### Brief Introduction of Pingouin functions\n",
        "\n",
        "For a general guidelines, please check [Pingouin official website here](https://pingouin-stats.org/guidelines.html). Here I shamelessly use some of the official illustrations here. \n",
        "\n",
        "To determine which function you plan to use, you need to know what test you plan to run. For ANOVA analyses, please look through the following decision tree:\n",
        "\n",
        "![](https://pingouin-stats.org/_images/flowchart_one_way_ANOVA.svg)\n",
        "\n",
        "For correlation analysis:\n",
        "\n",
        "![](https://pingouin-stats.org/_images/flowchart_correlations.svg)\n",
        "\n"
      ]
    },
    {
      "cell_type": "code",
      "metadata": {
        "colab": {
          "base_uri": "https://localhost:8080/",
          "height": 504
        },
        "id": "j_4qMizUxHen",
        "outputId": "d3d7ba17-124e-40fb-d152-275be29c0132"
      },
      "source": [
        "# example from the official website\n",
        "\n",
        "# Load an example dataset with the personality scores of 500 participants\n",
        "df = pg.read_dataset('pairwise_corr')\n",
        "\n",
        "# 1.Test for bivariate normality (optional)\n",
        "pg.multivariate_normality(df[['Neuroticism', 'Openness']])\n",
        "\n",
        "# 1bis. Visual inspection with a histogram + scatter plot (optional)\n",
        "sns.jointplot(data=df, x='Neuroticism', y='Openness', kind='reg')\n",
        "\n",
        "# 2. If the data have a bivariate normal distribution and no clear outlier(s), we can use a regular Pearson correlation\n",
        "pg.corr(df['Neuroticism'], df['Openness'], method='pearson')\n",
        "\n"
      ],
      "execution_count": null,
      "outputs": [
        {
          "output_type": "execute_result",
          "data": {
            "text/html": [
              "<div>\n",
              "<style scoped>\n",
              "    .dataframe tbody tr th:only-of-type {\n",
              "        vertical-align: middle;\n",
              "    }\n",
              "\n",
              "    .dataframe tbody tr th {\n",
              "        vertical-align: top;\n",
              "    }\n",
              "\n",
              "    .dataframe thead th {\n",
              "        text-align: right;\n",
              "    }\n",
              "</style>\n",
              "<table border=\"1\" class=\"dataframe\">\n",
              "  <thead>\n",
              "    <tr style=\"text-align: right;\">\n",
              "      <th></th>\n",
              "      <th>n</th>\n",
              "      <th>r</th>\n",
              "      <th>CI95%</th>\n",
              "      <th>p-val</th>\n",
              "      <th>BF10</th>\n",
              "      <th>power</th>\n",
              "    </tr>\n",
              "  </thead>\n",
              "  <tbody>\n",
              "    <tr>\n",
              "      <th>pearson</th>\n",
              "      <td>500</td>\n",
              "      <td>-0.010383</td>\n",
              "      <td>[-0.1, 0.08]</td>\n",
              "      <td>0.816854</td>\n",
              "      <td>0.058</td>\n",
              "      <td>0.056138</td>\n",
              "    </tr>\n",
              "  </tbody>\n",
              "</table>\n",
              "</div>"
            ],
            "text/plain": [
              "           n         r         CI95%     p-val   BF10     power\n",
              "pearson  500 -0.010383  [-0.1, 0.08]  0.816854  0.058  0.056138"
            ]
          },
          "metadata": {},
          "execution_count": 28
        },
        {
          "output_type": "display_data",
          "data": {
            "image/png": "[encoded data removed]",
            "text/plain": [
              "<Figure size 432x432 with 3 Axes>"
            ]
          },
          "metadata": {}
        }
      ]
    },
    {
      "cell_type": "markdown",
      "metadata": {
        "id": "dNO9YrKzxmCu"
      },
      "source": [
        "For non-parametric tests:\n",
        "\n",
        "![](https://pingouin-stats.org/_images/flowchart_nonparametric.svg)\n",
        "\n"
      ]
    },
    {
      "cell_type": "code",
      "metadata": {
        "colab": {
          "base_uri": "https://localhost:8080/",
          "height": 504
        },
        "id": "3_y8YhEIx89U",
        "outputId": "ca725edc-1efd-4f5c-a847-0349c4012bd7"
      },
      "source": [
        "import pingouin as pg\n",
        "\n",
        "# Load an example dataset comparing pain threshold as a function of hair color\n",
        "df = pg.read_dataset('anova')\n",
        "\n",
        "sns.jointplot(data = df, x = 'Pain threshold', y = 'Hair color')\n",
        "\n",
        "# There are 4 independent groups in our dataset, we'll therefore use the Kruskal-Wallis test:\n",
        "pg.kruskal(data=df, dv='Pain threshold', between='Hair color')"
      ],
      "execution_count": null,
      "outputs": [
        {
          "output_type": "execute_result",
          "data": {
            "text/html": [
              "<div>\n",
              "<style scoped>\n",
              "    .dataframe tbody tr th:only-of-type {\n",
              "        vertical-align: middle;\n",
              "    }\n",
              "\n",
              "    .dataframe tbody tr th {\n",
              "        vertical-align: top;\n",
              "    }\n",
              "\n",
              "    .dataframe thead th {\n",
              "        text-align: right;\n",
              "    }\n",
              "</style>\n",
              "<table border=\"1\" class=\"dataframe\">\n",
              "  <thead>\n",
              "    <tr style=\"text-align: right;\">\n",
              "      <th></th>\n",
              "      <th>Source</th>\n",
              "      <th>ddof1</th>\n",
              "      <th>H</th>\n",
              "      <th>p-unc</th>\n",
              "    </tr>\n",
              "  </thead>\n",
              "  <tbody>\n",
              "    <tr>\n",
              "      <th>Kruskal</th>\n",
              "      <td>Hair color</td>\n",
              "      <td>3</td>\n",
              "      <td>10.58863</td>\n",
              "      <td>0.014172</td>\n",
              "    </tr>\n",
              "  </tbody>\n",
              "</table>\n",
              "</div>"
            ],
            "text/plain": [
              "             Source  ddof1         H     p-unc\n",
              "Kruskal  Hair color      3  10.58863  0.014172"
            ]
          },
          "metadata": {},
          "execution_count": 30
        },
        {
          "output_type": "display_data",
          "data": {
            "image/png": "[encoded data removed]",
            "text/plain": [
              "<Figure size 432x432 with 3 Axes>"
            ]
          },
          "metadata": {}
        }
      ]
    },
    {
      "cell_type": "markdown",
      "metadata": {
        "id": "3sqFus_KyRgX"
      },
      "source": [
        "## Practice\n",
        "\n",
        "In behavioral analyses, we often want to investigate the trial-wise influences, such as inter-trial effects. In this practice, we do together to find out the target repetition and switch effects.\n",
        "\n",
        "### Step 1. Lagging column\n",
        "\n",
        "In order to make the inter-trial analysis possible, we first need to creat a column to denote the condition of the previous trial. This can be done with Python `shift()` function. "
      ]
    },
    {
      "cell_type": "code",
      "metadata": {
        "colab": {
          "base_uri": "https://localhost:8080/",
          "height": 204
        },
        "id": "bf8Hzd2YzMj2",
        "outputId": "5fda9ef7-20a1-4c20-9820-ff1e11169c5e"
      },
      "source": [
        "exp2 = pd.read_csv('https://raw.githubusercontent.com/msenselab/dynamic_search/master/data/exp2.csv')\n",
        "exp2.head()"
      ],
      "execution_count": null,
      "outputs": [
        {
          "output_type": "execute_result",
          "data": {
            "text/html": [
              "<div>\n",
              "<style scoped>\n",
              "    .dataframe tbody tr th:only-of-type {\n",
              "        vertical-align: middle;\n",
              "    }\n",
              "\n",
              "    .dataframe tbody tr th {\n",
              "        vertical-align: top;\n",
              "    }\n",
              "\n",
              "    .dataframe thead th {\n",
              "        text-align: right;\n",
              "    }\n",
              "</style>\n",
              "<table border=\"1\" class=\"dataframe\">\n",
              "  <thead>\n",
              "    <tr style=\"text-align: right;\">\n",
              "      <th></th>\n",
              "      <th>target</th>\n",
              "      <th>setsize</th>\n",
              "      <th>dyn</th>\n",
              "      <th>resp</th>\n",
              "      <th>rt</th>\n",
              "      <th>sub</th>\n",
              "      <th>reward</th>\n",
              "      <th>correct</th>\n",
              "    </tr>\n",
              "  </thead>\n",
              "  <tbody>\n",
              "    <tr>\n",
              "      <th>0</th>\n",
              "      <td>Absent</td>\n",
              "      <td>12</td>\n",
              "      <td>Static</td>\n",
              "      <td>2</td>\n",
              "      <td>2.058311</td>\n",
              "      <td>1</td>\n",
              "      <td>Absent</td>\n",
              "      <td>1</td>\n",
              "    </tr>\n",
              "    <tr>\n",
              "      <th>1</th>\n",
              "      <td>Present</td>\n",
              "      <td>8</td>\n",
              "      <td>Static</td>\n",
              "      <td>1</td>\n",
              "      <td>0.649519</td>\n",
              "      <td>1</td>\n",
              "      <td>Absent</td>\n",
              "      <td>1</td>\n",
              "    </tr>\n",
              "    <tr>\n",
              "      <th>2</th>\n",
              "      <td>Present</td>\n",
              "      <td>16</td>\n",
              "      <td>Static</td>\n",
              "      <td>1</td>\n",
              "      <td>0.599557</td>\n",
              "      <td>1</td>\n",
              "      <td>Absent</td>\n",
              "      <td>1</td>\n",
              "    </tr>\n",
              "    <tr>\n",
              "      <th>3</th>\n",
              "      <td>Present</td>\n",
              "      <td>12</td>\n",
              "      <td>Static</td>\n",
              "      <td>1</td>\n",
              "      <td>0.489666</td>\n",
              "      <td>1</td>\n",
              "      <td>Absent</td>\n",
              "      <td>1</td>\n",
              "    </tr>\n",
              "    <tr>\n",
              "      <th>4</th>\n",
              "      <td>Absent</td>\n",
              "      <td>12</td>\n",
              "      <td>Static</td>\n",
              "      <td>2</td>\n",
              "      <td>1.898485</td>\n",
              "      <td>1</td>\n",
              "      <td>Absent</td>\n",
              "      <td>1</td>\n",
              "    </tr>\n",
              "  </tbody>\n",
              "</table>\n",
              "</div>"
            ],
            "text/plain": [
              "    target  setsize     dyn  resp        rt  sub  reward  correct\n",
              "0   Absent       12  Static     2  2.058311    1  Absent        1\n",
              "1  Present        8  Static     1  0.649519    1  Absent        1\n",
              "2  Present       16  Static     1  0.599557    1  Absent        1\n",
              "3  Present       12  Static     1  0.489666    1  Absent        1\n",
              "4   Absent       12  Static     2  1.898485    1  Absent        1"
            ]
          },
          "metadata": {},
          "execution_count": 35
        }
      ]
    },
    {
      "cell_type": "markdown",
      "metadata": {
        "id": "XjT1Y_u30Nog"
      },
      "source": [
        "This raw data does not include the block information, so we only apply shift() function to subject-wise. If you have block information, you should apply shift() to block-wise. That is, the first trial of each block should not have previous trial (i.e., NaN). "
      ]
    },
    {
      "cell_type": "code",
      "metadata": {
        "colab": {
          "base_uri": "https://localhost:8080/",
          "height": 204
        },
        "id": "FrhIsDD60M7p",
        "outputId": "f37fbe68-2c78-4998-a95e-3e83c131f61f"
      },
      "source": [
        "#using chainning rule, groupby() of subject, then apply shift() to add new column (assign)\n",
        "exp2new = exp2.assign(pre_target = lambda df: df.groupby('sub').target.shift(1))\n",
        "#check the second participant if shift() works properly\n",
        "exp2new.query('pre_target != pre_target').head()  # NAN != NAN ;-)"
      ],
      "execution_count": null,
      "outputs": [
        {
          "output_type": "execute_result",
          "data": {
            "text/html": [
              "<div>\n",
              "<style scoped>\n",
              "    .dataframe tbody tr th:only-of-type {\n",
              "        vertical-align: middle;\n",
              "    }\n",
              "\n",
              "    .dataframe tbody tr th {\n",
              "        vertical-align: top;\n",
              "    }\n",
              "\n",
              "    .dataframe thead th {\n",
              "        text-align: right;\n",
              "    }\n",
              "</style>\n",
              "<table border=\"1\" class=\"dataframe\">\n",
              "  <thead>\n",
              "    <tr style=\"text-align: right;\">\n",
              "      <th></th>\n",
              "      <th>target</th>\n",
              "      <th>setsize</th>\n",
              "      <th>dyn</th>\n",
              "      <th>resp</th>\n",
              "      <th>rt</th>\n",
              "      <th>sub</th>\n",
              "      <th>reward</th>\n",
              "      <th>correct</th>\n",
              "      <th>pre_target</th>\n",
              "    </tr>\n",
              "  </thead>\n",
              "  <tbody>\n",
              "    <tr>\n",
              "      <th>0</th>\n",
              "      <td>Absent</td>\n",
              "      <td>12</td>\n",
              "      <td>Static</td>\n",
              "      <td>2</td>\n",
              "      <td>2.058311</td>\n",
              "      <td>1</td>\n",
              "      <td>Absent</td>\n",
              "      <td>1</td>\n",
              "      <td>NaN</td>\n",
              "    </tr>\n",
              "    <tr>\n",
              "      <th>840</th>\n",
              "      <td>Absent</td>\n",
              "      <td>8</td>\n",
              "      <td>Dynamic</td>\n",
              "      <td>1</td>\n",
              "      <td>3.307285</td>\n",
              "      <td>2</td>\n",
              "      <td>Absent</td>\n",
              "      <td>0</td>\n",
              "      <td>NaN</td>\n",
              "    </tr>\n",
              "    <tr>\n",
              "      <th>1680</th>\n",
              "      <td>Present</td>\n",
              "      <td>12</td>\n",
              "      <td>Static</td>\n",
              "      <td>1</td>\n",
              "      <td>0.699432</td>\n",
              "      <td>3</td>\n",
              "      <td>Absent</td>\n",
              "      <td>1</td>\n",
              "      <td>NaN</td>\n",
              "    </tr>\n",
              "    <tr>\n",
              "      <th>2520</th>\n",
              "      <td>Absent</td>\n",
              "      <td>8</td>\n",
              "      <td>Static</td>\n",
              "      <td>2</td>\n",
              "      <td>2.607855</td>\n",
              "      <td>4</td>\n",
              "      <td>Absent</td>\n",
              "      <td>1</td>\n",
              "      <td>NaN</td>\n",
              "    </tr>\n",
              "    <tr>\n",
              "      <th>3360</th>\n",
              "      <td>Absent</td>\n",
              "      <td>16</td>\n",
              "      <td>Dynamic</td>\n",
              "      <td>2</td>\n",
              "      <td>1.495362</td>\n",
              "      <td>5</td>\n",
              "      <td>Absent</td>\n",
              "      <td>1</td>\n",
              "      <td>NaN</td>\n",
              "    </tr>\n",
              "  </tbody>\n",
              "</table>\n",
              "</div>"
            ],
            "text/plain": [
              "       target  setsize      dyn  resp  ...  sub  reward correct  pre_target\n",
              "0      Absent       12   Static     2  ...    1  Absent       1         NaN\n",
              "840    Absent        8  Dynamic     1  ...    2  Absent       0         NaN\n",
              "1680  Present       12   Static     1  ...    3  Absent       1         NaN\n",
              "2520   Absent        8   Static     2  ...    4  Absent       1         NaN\n",
              "3360   Absent       16  Dynamic     2  ...    5  Absent       1         NaN\n",
              "\n",
              "[5 rows x 9 columns]"
            ]
          },
          "metadata": {},
          "execution_count": 49
        }
      ]
    },
    {
      "cell_type": "code",
      "metadata": {
        "colab": {
          "base_uri": "https://localhost:8080/",
          "height": 204
        },
        "id": "PGXy7Kgt_ozz",
        "outputId": "9b6f392e-a18c-43bc-a443-9371fb2747ab"
      },
      "source": [
        "#you can do the matrix way\n",
        "exp2['pre_target'] = exp2.groupby('sub')['target'].shift(1)\n",
        "exp2.head()"
      ],
      "execution_count": null,
      "outputs": [
        {
          "output_type": "execute_result",
          "data": {
            "text/html": [
              "<div>\n",
              "<style scoped>\n",
              "    .dataframe tbody tr th:only-of-type {\n",
              "        vertical-align: middle;\n",
              "    }\n",
              "\n",
              "    .dataframe tbody tr th {\n",
              "        vertical-align: top;\n",
              "    }\n",
              "\n",
              "    .dataframe thead th {\n",
              "        text-align: right;\n",
              "    }\n",
              "</style>\n",
              "<table border=\"1\" class=\"dataframe\">\n",
              "  <thead>\n",
              "    <tr style=\"text-align: right;\">\n",
              "      <th></th>\n",
              "      <th>target</th>\n",
              "      <th>setsize</th>\n",
              "      <th>dyn</th>\n",
              "      <th>resp</th>\n",
              "      <th>rt</th>\n",
              "      <th>sub</th>\n",
              "      <th>reward</th>\n",
              "      <th>correct</th>\n",
              "      <th>pre_target</th>\n",
              "    </tr>\n",
              "  </thead>\n",
              "  <tbody>\n",
              "    <tr>\n",
              "      <th>0</th>\n",
              "      <td>Absent</td>\n",
              "      <td>12</td>\n",
              "      <td>Static</td>\n",
              "      <td>2</td>\n",
              "      <td>2.058311</td>\n",
              "      <td>1</td>\n",
              "      <td>Absent</td>\n",
              "      <td>1</td>\n",
              "      <td>NaN</td>\n",
              "    </tr>\n",
              "    <tr>\n",
              "      <th>1</th>\n",
              "      <td>Present</td>\n",
              "      <td>8</td>\n",
              "      <td>Static</td>\n",
              "      <td>1</td>\n",
              "      <td>0.649519</td>\n",
              "      <td>1</td>\n",
              "      <td>Absent</td>\n",
              "      <td>1</td>\n",
              "      <td>Absent</td>\n",
              "    </tr>\n",
              "    <tr>\n",
              "      <th>2</th>\n",
              "      <td>Present</td>\n",
              "      <td>16</td>\n",
              "      <td>Static</td>\n",
              "      <td>1</td>\n",
              "      <td>0.599557</td>\n",
              "      <td>1</td>\n",
              "      <td>Absent</td>\n",
              "      <td>1</td>\n",
              "      <td>Present</td>\n",
              "    </tr>\n",
              "    <tr>\n",
              "      <th>3</th>\n",
              "      <td>Present</td>\n",
              "      <td>12</td>\n",
              "      <td>Static</td>\n",
              "      <td>1</td>\n",
              "      <td>0.489666</td>\n",
              "      <td>1</td>\n",
              "      <td>Absent</td>\n",
              "      <td>1</td>\n",
              "      <td>Present</td>\n",
              "    </tr>\n",
              "    <tr>\n",
              "      <th>4</th>\n",
              "      <td>Absent</td>\n",
              "      <td>12</td>\n",
              "      <td>Static</td>\n",
              "      <td>2</td>\n",
              "      <td>1.898485</td>\n",
              "      <td>1</td>\n",
              "      <td>Absent</td>\n",
              "      <td>1</td>\n",
              "      <td>Present</td>\n",
              "    </tr>\n",
              "  </tbody>\n",
              "</table>\n",
              "</div>"
            ],
            "text/plain": [
              "    target  setsize     dyn  resp        rt  sub  reward  correct pre_target\n",
              "0   Absent       12  Static     2  2.058311    1  Absent        1        NaN\n",
              "1  Present        8  Static     1  0.649519    1  Absent        1     Absent\n",
              "2  Present       16  Static     1  0.599557    1  Absent        1    Present\n",
              "3  Present       12  Static     1  0.489666    1  Absent        1    Present\n",
              "4   Absent       12  Static     2  1.898485    1  Absent        1    Present"
            ]
          },
          "metadata": {},
          "execution_count": 41
        }
      ]
    },
    {
      "cell_type": "markdown",
      "metadata": {
        "id": "WANDLADTAFtP"
      },
      "source": [
        "### You task\n",
        "\n",
        "Please add columns of previous setsize, resp. "
      ]
    },
    {
      "cell_type": "code",
      "metadata": {
        "id": "cxMFRUtaAXDE"
      },
      "source": [
        "# your code here\n"
      ],
      "execution_count": null,
      "outputs": []
    },
    {
      "cell_type": "markdown",
      "metadata": {
        "id": "0W_5DTbNAc2K"
      },
      "source": [
        "### Step 2. calculate average data \n",
        "\n",
        "Calucate average data for the combination of current and previous trials.\n",
        "\n",
        "\n"
      ]
    },
    {
      "cell_type": "code",
      "metadata": {
        "colab": {
          "base_uri": "https://localhost:8080/",
          "height": 204
        },
        "id": "O1Bsx-DVAtuj",
        "outputId": "de0e84b5-c2aa-43e0-9a0a-60f27f0fd032"
      },
      "source": [
        "exp2m = (exp2new.query('rt > 0.15 & rt < 4.5 & correct == 1 & pre_target == pre_target')  # select valid trials\n",
        "  .groupby(['sub','setsize','reward','target','pre_target'])   # group by experimental conditions\n",
        "  .agg({'rt':'mean'}).reset_index()      # averaging \n",
        "  .assign(Repetition = lambda df: df.target == df.pre_target) ) # add additional column to indicate inter-trial repetition / switch\n",
        "exp2m.head()"
      ],
      "execution_count": null,
      "outputs": [
        {
          "output_type": "execute_result",
          "data": {
            "text/html": [
              "<div>\n",
              "<style scoped>\n",
              "    .dataframe tbody tr th:only-of-type {\n",
              "        vertical-align: middle;\n",
              "    }\n",
              "\n",
              "    .dataframe tbody tr th {\n",
              "        vertical-align: top;\n",
              "    }\n",
              "\n",
              "    .dataframe thead th {\n",
              "        text-align: right;\n",
              "    }\n",
              "</style>\n",
              "<table border=\"1\" class=\"dataframe\">\n",
              "  <thead>\n",
              "    <tr style=\"text-align: right;\">\n",
              "      <th></th>\n",
              "      <th>sub</th>\n",
              "      <th>setsize</th>\n",
              "      <th>reward</th>\n",
              "      <th>target</th>\n",
              "      <th>pre_target</th>\n",
              "      <th>rt</th>\n",
              "      <th>Repetition</th>\n",
              "    </tr>\n",
              "  </thead>\n",
              "  <tbody>\n",
              "    <tr>\n",
              "      <th>0</th>\n",
              "      <td>1</td>\n",
              "      <td>8</td>\n",
              "      <td>Absent</td>\n",
              "      <td>Absent</td>\n",
              "      <td>Absent</td>\n",
              "      <td>1.642127</td>\n",
              "      <td>True</td>\n",
              "    </tr>\n",
              "    <tr>\n",
              "      <th>1</th>\n",
              "      <td>1</td>\n",
              "      <td>8</td>\n",
              "      <td>Absent</td>\n",
              "      <td>Absent</td>\n",
              "      <td>Present</td>\n",
              "      <td>1.880320</td>\n",
              "      <td>False</td>\n",
              "    </tr>\n",
              "    <tr>\n",
              "      <th>2</th>\n",
              "      <td>1</td>\n",
              "      <td>8</td>\n",
              "      <td>Absent</td>\n",
              "      <td>Present</td>\n",
              "      <td>Absent</td>\n",
              "      <td>1.089960</td>\n",
              "      <td>False</td>\n",
              "    </tr>\n",
              "    <tr>\n",
              "      <th>3</th>\n",
              "      <td>1</td>\n",
              "      <td>8</td>\n",
              "      <td>Absent</td>\n",
              "      <td>Present</td>\n",
              "      <td>Present</td>\n",
              "      <td>1.042328</td>\n",
              "      <td>True</td>\n",
              "    </tr>\n",
              "    <tr>\n",
              "      <th>4</th>\n",
              "      <td>1</td>\n",
              "      <td>8</td>\n",
              "      <td>Present</td>\n",
              "      <td>Absent</td>\n",
              "      <td>Absent</td>\n",
              "      <td>1.643384</td>\n",
              "      <td>True</td>\n",
              "    </tr>\n",
              "  </tbody>\n",
              "</table>\n",
              "</div>"
            ],
            "text/plain": [
              "   sub  setsize   reward   target pre_target        rt  Repetition\n",
              "0    1        8   Absent   Absent     Absent  1.642127        True\n",
              "1    1        8   Absent   Absent    Present  1.880320       False\n",
              "2    1        8   Absent  Present     Absent  1.089960       False\n",
              "3    1        8   Absent  Present    Present  1.042328        True\n",
              "4    1        8  Present   Absent     Absent  1.643384        True"
            ]
          },
          "metadata": {},
          "execution_count": 65
        }
      ]
    },
    {
      "cell_type": "markdown",
      "metadata": {
        "id": "qRAC6w8MIhOS"
      },
      "source": [
        "__Note__: in the above chaining, I use `()` to save type in `\\` for every line, and it also possible allow me to comment each line"
      ]
    },
    {
      "cell_type": "markdown",
      "metadata": {
        "id": "bcCABtAsDSTD"
      },
      "source": [
        "### Pandas data manipulation\n",
        "\n",
        "Very often we need to rehape pandas table in a long or wide format. Knowing how to reshape table is necessary for further analysis. \n",
        "\n",
        "#### 1. wide format to long format with `pivot()`\n",
        "\n",
        "Function format: \n",
        "\n",
        "`.pivot(index = 'id', columns = 'variable', values = 'value')`\n"
      ]
    },
    {
      "cell_type": "code",
      "metadata": {
        "colab": {
          "base_uri": "https://localhost:8080/",
          "height": 204
        },
        "id": "nWWh72GbEmx4",
        "outputId": "3aa97c68-4b51-413c-e062-cd307720c0a2"
      },
      "source": [
        "exp2w = (exp2m.pivot(index = ['sub','setsize','reward','target'], columns = 'Repetition', values = 'rt') # spread on Repetition column, not this column is True/False\n",
        ".reset_index(). #flatten the column names\n",
        "assign(switch_cost = lambda df: df[False] - df[True]))  # note, here the column names from pivot table is a bit unusual, given False and True are NOT string, but logical!\n",
        "exp2w.head()"
      ],
      "execution_count": null,
      "outputs": [
        {
          "output_type": "execute_result",
          "data": {
            "text/html": [
              "<div>\n",
              "<style scoped>\n",
              "    .dataframe tbody tr th:only-of-type {\n",
              "        vertical-align: middle;\n",
              "    }\n",
              "\n",
              "    .dataframe tbody tr th {\n",
              "        vertical-align: top;\n",
              "    }\n",
              "\n",
              "    .dataframe thead th {\n",
              "        text-align: right;\n",
              "    }\n",
              "</style>\n",
              "<table border=\"1\" class=\"dataframe\">\n",
              "  <thead>\n",
              "    <tr style=\"text-align: right;\">\n",
              "      <th>Repetition</th>\n",
              "      <th>sub</th>\n",
              "      <th>setsize</th>\n",
              "      <th>reward</th>\n",
              "      <th>target</th>\n",
              "      <th>False</th>\n",
              "      <th>True</th>\n",
              "      <th>switch_cost</th>\n",
              "    </tr>\n",
              "  </thead>\n",
              "  <tbody>\n",
              "    <tr>\n",
              "      <th>0</th>\n",
              "      <td>1</td>\n",
              "      <td>8</td>\n",
              "      <td>Absent</td>\n",
              "      <td>Absent</td>\n",
              "      <td>1.880320</td>\n",
              "      <td>1.642127</td>\n",
              "      <td>0.238192</td>\n",
              "    </tr>\n",
              "    <tr>\n",
              "      <th>1</th>\n",
              "      <td>1</td>\n",
              "      <td>8</td>\n",
              "      <td>Absent</td>\n",
              "      <td>Present</td>\n",
              "      <td>1.089960</td>\n",
              "      <td>1.042328</td>\n",
              "      <td>0.047632</td>\n",
              "    </tr>\n",
              "    <tr>\n",
              "      <th>2</th>\n",
              "      <td>1</td>\n",
              "      <td>8</td>\n",
              "      <td>Present</td>\n",
              "      <td>Absent</td>\n",
              "      <td>2.104425</td>\n",
              "      <td>1.643384</td>\n",
              "      <td>0.461042</td>\n",
              "    </tr>\n",
              "    <tr>\n",
              "      <th>3</th>\n",
              "      <td>1</td>\n",
              "      <td>8</td>\n",
              "      <td>Present</td>\n",
              "      <td>Present</td>\n",
              "      <td>1.152004</td>\n",
              "      <td>1.081655</td>\n",
              "      <td>0.070350</td>\n",
              "    </tr>\n",
              "    <tr>\n",
              "      <th>4</th>\n",
              "      <td>1</td>\n",
              "      <td>12</td>\n",
              "      <td>Absent</td>\n",
              "      <td>Absent</td>\n",
              "      <td>1.746325</td>\n",
              "      <td>1.853214</td>\n",
              "      <td>-0.106889</td>\n",
              "    </tr>\n",
              "  </tbody>\n",
              "</table>\n",
              "</div>"
            ],
            "text/plain": [
              "Repetition  sub  setsize   reward   target     False      True  switch_cost\n",
              "0             1        8   Absent   Absent  1.880320  1.642127     0.238192\n",
              "1             1        8   Absent  Present  1.089960  1.042328     0.047632\n",
              "2             1        8  Present   Absent  2.104425  1.643384     0.461042\n",
              "3             1        8  Present  Present  1.152004  1.081655     0.070350\n",
              "4             1       12   Absent   Absent  1.746325  1.853214    -0.106889"
            ]
          },
          "metadata": {},
          "execution_count": 80
        }
      ]
    },
    {
      "cell_type": "code",
      "metadata": {
        "colab": {
          "base_uri": "https://localhost:8080/"
        },
        "id": "xunU0FoCJcjd",
        "outputId": "dce4a5c3-8fd7-4c10-e34a-6ad2738bbf4e"
      },
      "source": [
        "# let's see this unusual column names\n",
        "exp2w.columns"
      ],
      "execution_count": null,
      "outputs": [
        {
          "output_type": "execute_result",
          "data": {
            "text/plain": [
              "Index(['sub', 'setsize', 'reward', 'target', False, True, 'switch_cost'], dtype='object', name='Repetition')"
            ]
          },
          "metadata": {},
          "execution_count": 81
        }
      ]
    },
    {
      "cell_type": "markdown",
      "metadata": {
        "id": "xmIfUhzpKy5N"
      },
      "source": [
        "### Your task\n",
        "\n",
        "Please visualize the inter-trial effects and do statistical tests. "
      ]
    },
    {
      "cell_type": "code",
      "metadata": {
        "id": "VE8uWaZ3K4zU"
      },
      "source": [
        "# your code is here\n"
      ],
      "execution_count": null,
      "outputs": []
    },
    {
      "cell_type": "markdown",
      "metadata": {
        "id": "slh8Wq53K7j1"
      },
      "source": [
        "### Solution"
      ]
    },
    {
      "cell_type": "markdown",
      "metadata": {
        "id": "es124rqiNmbj"
      },
      "source": [
        "__Tip: Save figures__\n",
        "\n",
        "Using Matplotlib function `.savefig()` to save the current figure. "
      ]
    },
    {
      "cell_type": "code",
      "metadata": {
        "colab": {
          "base_uri": "https://localhost:8080/",
          "height": 369
        },
        "id": "6p7OQ-RVK-Kf",
        "outputId": "92ce2809-292c-430f-a83e-b3b3470409c5"
      },
      "source": [
        "fig = sns.catplot(data = exp2w, kind = 'point', x = 'setsize', y = 'switch_cost', \n",
        "                  hue = 'target', errwidth = 1.5, capsize = 0.15, aspect = 1.5) # parameters to adjust error bars\n",
        "fig.set_xlabels('Set Size')\n",
        "fig.set_ylabels('Switch Cost (s)')\n",
        "plt.savefig('ite.pdf')"
      ],
      "execution_count": null,
      "outputs": [
        {
          "output_type": "display_data",
          "data": {
            "image/png": "[encoded data removed]",
            "text/plain": [
              "<Figure size 613.5x360 with 1 Axes>"
            ]
          },
          "metadata": {
            "needs_background": "light"
          }
        }
      ]
    },
    {
      "cell_type": "code",
      "metadata": {
        "colab": {
          "base_uri": "https://localhost:8080/",
          "height": 142
        },
        "id": "u1aoduiJMgTc",
        "outputId": "6e422a66-d575-4c9c-f250-7bf7afb573fb"
      },
      "source": [
        "pg.rm_anova(data = exp2w, \n",
        "            dv = 'switch_cost', \n",
        "            within = ['setsize','target'],\n",
        "            subject = 'sub',\n",
        "            detailed = True)"
      ],
      "execution_count": null,
      "outputs": [
        {
          "output_type": "execute_result",
          "data": {
            "text/html": [
              "<div>\n",
              "<style scoped>\n",
              "    .dataframe tbody tr th:only-of-type {\n",
              "        vertical-align: middle;\n",
              "    }\n",
              "\n",
              "    .dataframe tbody tr th {\n",
              "        vertical-align: top;\n",
              "    }\n",
              "\n",
              "    .dataframe thead th {\n",
              "        text-align: right;\n",
              "    }\n",
              "</style>\n",
              "<table border=\"1\" class=\"dataframe\">\n",
              "  <thead>\n",
              "    <tr style=\"text-align: right;\">\n",
              "      <th></th>\n",
              "      <th>Source</th>\n",
              "      <th>SS</th>\n",
              "      <th>ddof1</th>\n",
              "      <th>ddof2</th>\n",
              "      <th>MS</th>\n",
              "      <th>F</th>\n",
              "      <th>p-unc</th>\n",
              "      <th>p-GG-corr</th>\n",
              "      <th>np2</th>\n",
              "      <th>eps</th>\n",
              "    </tr>\n",
              "  </thead>\n",
              "  <tbody>\n",
              "    <tr>\n",
              "      <th>0</th>\n",
              "      <td>setsize</td>\n",
              "      <td>0.022499</td>\n",
              "      <td>2</td>\n",
              "      <td>22</td>\n",
              "      <td>0.011250</td>\n",
              "      <td>1.137207</td>\n",
              "      <td>0.338854</td>\n",
              "      <td>0.335993</td>\n",
              "      <td>0.093696</td>\n",
              "      <td>0.915555</td>\n",
              "    </tr>\n",
              "    <tr>\n",
              "      <th>1</th>\n",
              "      <td>target</td>\n",
              "      <td>0.030956</td>\n",
              "      <td>1</td>\n",
              "      <td>11</td>\n",
              "      <td>0.030956</td>\n",
              "      <td>2.052329</td>\n",
              "      <td>0.179774</td>\n",
              "      <td>0.179774</td>\n",
              "      <td>0.157239</td>\n",
              "      <td>1.000000</td>\n",
              "    </tr>\n",
              "    <tr>\n",
              "      <th>2</th>\n",
              "      <td>setsize * target</td>\n",
              "      <td>0.036139</td>\n",
              "      <td>2</td>\n",
              "      <td>22</td>\n",
              "      <td>0.018070</td>\n",
              "      <td>1.375871</td>\n",
              "      <td>0.273518</td>\n",
              "      <td>0.273783</td>\n",
              "      <td>0.111174</td>\n",
              "      <td>0.883475</td>\n",
              "    </tr>\n",
              "  </tbody>\n",
              "</table>\n",
              "</div>"
            ],
            "text/plain": [
              "             Source        SS  ddof1  ...  p-GG-corr       np2       eps\n",
              "0           setsize  0.022499      2  ...   0.335993  0.093696  0.915555\n",
              "1            target  0.030956      1  ...   0.179774  0.157239  1.000000\n",
              "2  setsize * target  0.036139      2  ...   0.273783  0.111174  0.883475\n",
              "\n",
              "[3 rows x 10 columns]"
            ]
          },
          "metadata": {},
          "execution_count": 87
        }
      ]
    },
    {
      "cell_type": "markdown",
      "metadata": {
        "id": "c8KmN4gvM2up"
      },
      "source": [
        "None of the main factors or interaction was significant. "
      ]
    },
    {
      "cell_type": "markdown",
      "metadata": {
        "id": "txdCyhBcP4Ih"
      },
      "source": [
        "## Feedback and suggestions\n",
        "\n"
      ]
    }
  ]
}